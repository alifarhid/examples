{
 "cells": [
  {
   "cell_type": "markdown",
   "id": "f1698cfa-7679-4516-939c-3a4f1df59c88",
   "metadata": {},
   "source": [
    "# Start Using Dask"
   ]
  },
  {
   "cell_type": "markdown",
   "id": "51d26e07-d06d-4da2-bda6-6e26f640066c",
   "metadata": {},
   "source": [
    "Dask is an open-source framework that enables parallelization of Python code, on one machine or clusters of many machines. You can use Dask with pandas, NumPy, scikit-learn, and other Python libraries.\n",
    "In this article, we’re going to show you the essentials of spinning up and using Dask clusters on Saturn Cloud. If you need more information about creating and attaching a Dask cluster to a Saturn Cloud resource see the [Saturn Cloud docs](https://saturncloud.io/docs/using-saturn-cloud/create_dask_cluster/).\n"
   ]
  },
  {
   "cell_type": "markdown",
   "id": "2bceb739-6ecc-4e94-bc1c-b3aa0c5af91f",
   "metadata": {},
   "source": [
    "## Connect to a Dask Cluster"
   ]
  },
  {
   "cell_type": "markdown",
   "id": "6afb457d-7275-4b5c-9bae-037a70e34d32",
   "metadata": {},
   "source": [
    "The code below imports the Dask libraries and connects to the Saturn Cloud Dask cluster attached to the resource. The Python library `dask_saturn` is pre-installed on Saturn Cloud resources and used for connecting to Saturn Cloud Dask clusters. By default this will start a Dask cluster with the same settings that you have already set in the Saturn UI (and the specific number of workers). The `wait_for_workers()` command will halt the notebook execution until all of the workers are ready."
   ]
  },
  {
   "cell_type": "code",
   "execution_count": null,
   "id": "56d02448-0cec-49c7-9204-ff09707d39f0",
   "metadata": {},
   "outputs": [],
   "source": [
    "import dask\n",
    "from dask_saturn import SaturnCluster\n",
    "from dask.distributed import Client\n",
    "\n",
    "n_workers = 3\n",
    "cluster = SaturnCluster(n_workers=n_workers)\n",
    "client = Client(cluster)\n",
    "client.wait_for_workers(n_workers)"
   ]
  },
  {
   "cell_type": "markdown",
   "id": "54e485e8-85e9-41e6-b223-5fd633526d39",
   "metadata": {},
   "source": [
    "You can also adjust the size of dask cluster by explicitly specifying parameters. Following is the detail of each parameter we have used in code below:\n",
    "\n",
    "* **`n_workers`:** Number of workers to provision for the cluster.\n",
    "* **`worker_size`:** the size of machine to use for each Dask worker\n",
    "* **`scheduler_size`:** the size of machine to use for the Dask scheduler\n",
    "* **`nthreads`:** The number of threads available to each dask-worker process.\n",
    "* **`worker_is_spot`:** Flag to indicate if workers should be started on Spot Instances nodes.\n",
    "\n",
    "Once your Dask cluster is ready, you can use Dask commands in the same way you would with a local Dask cluster. Below is an example of using Dask to compute some exponents"
   ]
  },
  {
   "cell_type": "code",
   "execution_count": null,
   "id": "30df3d4f-71df-4300-b223-89d0d5c4a1a8",
   "metadata": {
    "tags": []
   },
   "outputs": [],
   "source": [
    "@dask.delayed\n",
    "def lazy_exponent(args):\n",
    "    x, y = args\n",
    "    return x ** y\n",
    "\n",
    "\n",
    "inputs = [[1, 2], [3, 4], [5, 6], [9, 10], [11, 12]]\n",
    "outputs = (lazy_exponent(i) for i in inputs)\n",
    "futures_computed = client.compute(outputs, sync=False)\n",
    "\n",
    "results = [x.result() for x in futures_computed]\n",
    "results"
   ]
  },
  {
   "cell_type": "markdown",
   "id": "f127750c-08fb-447d-b7c5-db0bc28c0eaa",
   "metadata": {},
   "source": [
    "Once you are done using Dask, you can close the connection to the cluster and shut it down:"
   ]
  },
  {
   "cell_type": "code",
   "execution_count": null,
   "id": "760af292",
   "metadata": {},
   "outputs": [],
   "source": [
    "client.close()"
   ]
  }
 ],
 "metadata": {
  "kernelspec": {
   "display_name": "saturn (Python 3)",
   "language": "python",
   "name": "python3"
  },
  "language_info": {
   "codemirror_mode": {
    "name": "ipython",
    "version": 3
   },
   "file_extension": ".py",
   "mimetype": "text/x-python",
   "name": "python",
   "nbconvert_exporter": "python",
   "pygments_lexer": "ipython3",
   "version": "3.9.9"
  }
 },
 "nbformat": 4,
 "nbformat_minor": 5
}
