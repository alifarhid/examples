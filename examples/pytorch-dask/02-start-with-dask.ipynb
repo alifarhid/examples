{
 "cells": [
  {
   "cell_type": "markdown",
   "metadata": {},
   "source": [
    "# Getting started with Dask on Saturn Cloud\n",
    "\n",
    "Dask is a framework that easily lets you run Python in parallel across distributed machines. Below is an example of taking a function that computes exponents and running it across a list of inputs in parallel"
   ]
  },
  {
   "cell_type": "markdown",
   "metadata": {},
   "source": [
    "This code imports the Dask libraries and connects to the Saturn Cloud dask cluster. If you are having issues with this, you may not have a running dask cluster, you can adjust the dask cluster on the project page."
   ]
  },
  {
   "cell_type": "code",
   "execution_count": 13,
   "metadata": {},
   "outputs": [
    {
     "name": "stdout",
     "output_type": "stream",
     "text": [
      "[2021-02-19 23:03:10] INFO - dask-saturn | Cluster is ready\n",
      "[2021-02-19 23:03:10] INFO - dask-saturn | Registering default plugins\n",
      "[2021-02-19 23:03:11] INFO - dask-saturn | {'tcp://10.0.26.85:42489': {'status': 'repeat'}}\n"
     ]
    }
   ],
   "source": [
    "import dask\n",
    "from dask_saturn import SaturnCluster\n",
    "from dask.distributed import Client\n",
    "\n",
    "cluster = SaturnCluster()\n",
    "client = Client(cluster)"
   ]
  },
  {
   "cell_type": "markdown",
   "metadata": {},
   "source": [
    "The `@dask.delayed` decorator indicates this will run lazily in parallel:"
   ]
  },
  {
   "cell_type": "code",
   "execution_count": 14,
   "metadata": {},
   "outputs": [],
   "source": [
    "@dask.delayed\n",
    "def lazy_exponent(args):\n",
    "    x,y = args\n",
    "    '''Define a lazily evaluating function'''\n",
    "    return x ** y"
   ]
  },
  {
   "cell_type": "markdown",
   "metadata": {},
   "source": [
    "With this dask function, we can now run the function across a distributed set of workers using the `client` functions. In this case we take thios list of pairs of numbers and run them in a distributed setting. After using `client.compute()` to actually compute the values (since they're otherwise lazy) we can then look at the results by using `x.result()` for each element of the computed list:"
   ]
  },
  {
   "cell_type": "code",
   "execution_count": 14,
   "metadata": {},
   "outputs": [
    {
     "data": {
      "text/plain": [
       "[1, 81, 15625, 3486784401, 3138428376721]"
      ]
     },
     "execution_count": 14,
     "metadata": {},
     "output_type": "execute_result"
    }
   ],
   "source": [
    "inputs = [[1,2], [3,4], [5,6], [9, 10], [11, 12]]\n",
    "\n",
    "example_future = client.map(lazy_exponent, inputs)\n",
    "futures_gathered = client.gather(example_future)\n",
    "futures_computed = client.compute(futures_gathered, sync=False)\n",
    "\n",
    "results = [x.result() for x in futures_computed]\n",
    "results"
   ]
  },
  {
   "cell_type": "markdown",
   "metadata": {},
   "source": [
    "This was _somewhat_ of a toy example--you probably want to do more complex computations than exponents with dask. However the core concept of making a function and then running it in a distributed fashion is at the core of what you can do with Dask on Saturn Cloud.\n",
    "\n",
    "\n",
    "When you're done, you can close the connection to the cluster:"
   ]
  },
  {
   "cell_type": "code",
   "execution_count": null,
   "metadata": {},
   "outputs": [],
   "source": [
    "client.close()"
   ]
  }
 ],
 "metadata": {
  "kernelspec": {
   "display_name": "Python 3",
   "language": "python",
   "name": "python3"
  },
  "language_info": {
   "codemirror_mode": {
    "name": "ipython",
    "version": 3
   },
   "file_extension": ".py",
   "mimetype": "text/x-python",
   "name": "python",
   "nbconvert_exporter": "python",
   "pygments_lexer": "ipython3",
   "version": "3.7.7"
  }
 },
 "nbformat": 4,
 "nbformat_minor": 4
}
