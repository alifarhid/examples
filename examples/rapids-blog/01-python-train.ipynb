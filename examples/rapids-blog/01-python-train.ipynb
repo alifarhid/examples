{
 "cells": [
  {
   "cell_type": "markdown",
   "id": "0ff99e2e-d2bc-4871-afdd-3c761429018d",
   "metadata": {},
   "source": [
    "First let's load the data using pandas."
   ]
  },
  {
   "cell_type": "code",
   "execution_count": null,
   "id": "49a7656f-e815-4370-9cb9-e292b0f01999",
   "metadata": {
    "execution": {
     "iopub.execute_input": "2022-02-08T20:43:04.467557Z",
     "iopub.status.busy": "2022-02-08T20:43:04.467182Z",
     "iopub.status.idle": "2022-02-08T20:43:08.917473Z",
     "shell.execute_reply": "2022-02-08T20:43:08.916811Z",
     "shell.execute_reply.started": "2022-02-08T20:43:04.467484Z"
    }
   },
   "outputs": [],
   "source": [
    "import pandas as pd\n",
    "\n",
    "spain = pd.read_csv(\n",
    "    \"https://saturn-public-data.s3.us-east-2.amazonaws.com/examples/dashboard/thegurus_opendata_renfe_trips_filtered.csv\"\n",
    ")"
   ]
  },
  {
   "cell_type": "markdown",
   "id": "8313a72d-db6e-4bde-8bae-fc1eb386d04b",
   "metadata": {},
   "source": [
    "### Feature Engineering\n",
    "Now we will do some feature engineering. First we filter the dataframe for rows which do not have missing price value and use `astype` function to change the data types from string to datetime. To set the dataframe index from column insert_date, we use method `set_index` and create new columns. Then we select the predictors and target variable. Finally we use function `get_dummies` to convert categorical variables of X dataframe to binary vector form."
   ]
  },
  {
   "cell_type": "code",
   "execution_count": null,
   "id": "269bad21-50f4-4cca-9108-179c441ab089",
   "metadata": {
    "execution": {
     "iopub.execute_input": "2022-02-08T20:43:14.700602Z",
     "iopub.status.busy": "2022-02-08T20:43:14.700293Z",
     "iopub.status.idle": "2022-02-08T20:43:15.676555Z",
     "shell.execute_reply": "2022-02-08T20:43:15.675945Z",
     "shell.execute_reply.started": "2022-02-08T20:43:14.700575Z"
    }
   },
   "outputs": [],
   "source": [
    "# Extract only the rows where column price is not null .( Objective 1)\n",
    "spain = spain[spain[\"price\"].notnull()]\n",
    "\n",
    "# Convert dataType for columns ‘departure’, ‘arrival' and   \t'insert_date' ( Objective 2)\n",
    "spain[\"departure\"] = spain[\"departure\"].astype(\"datetime64[ns]\")\n",
    "spain[\"arrival\"] = spain[\"arrival\"].astype(\"datetime64[ns]\")\n",
    "spain[\"insert_date\"] = spain[\"insert_date\"].astype(\"datetime64[ns]\")\n",
    "\n",
    "# Set column insert_date as index . Create new columns  ‘Year’,     \t‘Hour’, ‘Month’ from index. ( Objective 3)\n",
    "spain.set_index(\"insert_date\", inplace=True)\n",
    "\n",
    "# Create new columns ‘Year’, ‘Hour’, ‘Month’ from index.\n",
    "spain[\"Year\"] = spain.index.year\n",
    "spain[\"Hour\"] = spain.index.hour\n",
    "spain[\"Month\"] = spain.index.month\n",
    "# Splitting the data to dependent and independent variables\n",
    "X = spain[[\"origin\", \"destination\", \"duration\", \"Hour\", \"Month\", \"Year\"]]\n",
    "y = spain[\"price\"]\n",
    "# Perform one hot coding over ‘origin’ and ‘destination’ ( Objective 4)\n",
    "X = pd.get_dummies(X, columns=[\"origin\", \"destination\"])"
   ]
  },
  {
   "cell_type": "markdown",
   "id": "fa2c4ec5-5b30-4ab6-b185-7b9c92f06b4f",
   "metadata": {},
   "source": [
    "### Model Creation with Linear Regression\n",
    "To perform linear regression we first import necessary libraries, `train_test_split` and `LinearRegression` from sklearn. Then we call the model, fit the training set and predict the test set."
   ]
  },
  {
   "cell_type": "code",
   "execution_count": null,
   "id": "492a5dbf-1f1e-43ea-a324-573357e0ce79",
   "metadata": {
    "execution": {
     "iopub.execute_input": "2022-02-08T20:43:54.849634Z",
     "iopub.status.busy": "2022-02-08T20:43:54.849339Z",
     "iopub.status.idle": "2022-02-08T20:43:55.151000Z",
     "shell.execute_reply": "2022-02-08T20:43:55.150404Z",
     "shell.execute_reply.started": "2022-02-08T20:43:54.849606Z"
    },
    "tags": []
   },
   "outputs": [],
   "source": [
    "from sklearn.model_selection import train_test_split\n",
    "from sklearn.linear_model import LinearRegression\n",
    "\n",
    "x_train, x_test, y_train, y_test = train_test_split(X, y, test_size=0.2)\n",
    "lr = LinearRegression(fit_intercept=True)\n",
    "lr.fit(x_train, y_train)\n",
    "preds = lr.predict(x_test)"
   ]
  },
  {
   "cell_type": "markdown",
   "id": "4a5f52b6-42e5-42e3-9ffe-9106df452e24",
   "metadata": {},
   "source": [
    "### Model Creation with ElasticNet Regression\n",
    "Now let us regularize the linear regression model by constraining weights. I choose ElasticNet, which is the combination of L1 and L2."
   ]
  },
  {
   "cell_type": "code",
   "execution_count": null,
   "id": "2f76204f-8083-418c-bf86-4d010b499a47",
   "metadata": {
    "execution": {
     "iopub.execute_input": "2022-02-08T20:43:56.479186Z",
     "iopub.status.busy": "2022-02-08T20:43:56.478865Z",
     "iopub.status.idle": "2022-02-08T20:43:56.682331Z",
     "shell.execute_reply": "2022-02-08T20:43:56.681730Z",
     "shell.execute_reply.started": "2022-02-08T20:43:56.479158Z"
    },
    "tags": []
   },
   "outputs": [],
   "source": [
    "from sklearn.linear_model import ElasticNet\n",
    "\n",
    "regr = ElasticNet(alpha=0.1, l1_ratio=0.5)\n",
    "result_enet = regr.fit(x_train, y_train)\n",
    "preds = result_enet.predict(x_test)"
   ]
  }
 ],
 "metadata": {
  "kernelspec": {
   "display_name": "Python 3",
   "language": "python",
   "name": "python3"
  },
  "language_info": {
   "codemirror_mode": {
    "name": "ipython",
    "version": 3
   },
   "file_extension": ".py",
   "mimetype": "text/x-python",
   "name": "python",
   "nbconvert_exporter": "python",
   "pygments_lexer": "ipython3",
   "version": "3.8.8"
  }
 },
 "nbformat": 4,
 "nbformat_minor": 5
}
