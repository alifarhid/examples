{
 "cells": [
  {
   "cell_type": "markdown",
   "id": "250fc05f",
   "metadata": {},
   "source": [
    "# Zero to RAPIDS in Minutes\n",
    "\n",
    "_Compare CPU (scikit-learn) to GPU (cuML) for training random forest models_\n",
    "\n",
    "This example shows the speed difference between using a CPU versus a GPU to train a random forest machine learning model. To test the CPU, the\n",
    "popular machine learning package scikit-learn is used, while for the GPU the RAPIDS framework from NVIDIA is used. It also compares using a Dask cluster running multiple machines with GPUs for even more power when training.\n",
    "\n",
    "For more context of this comparison you can find the details on the [RAPIDS blog post](https://developer.nvidia.com/blog/zero-to-rapids-in-minutes-with-nvidia-gpus-saturn-cloud/).\n",
    "\n",
    "## Set up the experiment\n",
    "\n",
    "To set up the experiment, the context manager is set up to measure recording timings. In a separate chunk the comparison data is downloaded. It's large csv file of New York taxi data."
   ]
  },
  {
   "cell_type": "code",
   "execution_count": 1,
   "id": "796a8260",
   "metadata": {
    "execution": {
     "iopub.execute_input": "2021-12-10T19:00:10.916163Z",
     "iopub.status.busy": "2021-12-10T19:00:10.915788Z",
     "iopub.status.idle": "2021-12-10T19:00:10.923842Z",
     "shell.execute_reply": "2021-12-10T19:00:10.923324Z",
     "shell.execute_reply.started": "2021-12-10T19:00:10.916090Z"
    }
   },
   "outputs": [],
   "source": [
    "from time import time\n",
    "from contextlib import contextmanager\n",
    "\n",
    "times = []\n",
    "\n",
    "\n",
    "@contextmanager\n",
    "def timing(description: str) -> None:\n",
    "    start = time()\n",
    "    yield\n",
    "    elapsed = time() - start\n",
    "    times.append((description, elapsed))\n",
    "    print(f\"{description}: {round(elapsed)} seconds\")"
   ]
  },
  {
   "cell_type": "code",
   "execution_count": 2,
   "id": "adc933bc",
   "metadata": {
    "execution": {
     "iopub.execute_input": "2021-12-10T19:00:12.815256Z",
     "iopub.status.busy": "2021-12-10T19:00:12.814950Z",
     "iopub.status.idle": "2021-12-10T19:00:47.137792Z",
     "shell.execute_reply": "2021-12-10T19:00:47.137095Z",
     "shell.execute_reply.started": "2021-12-10T19:00:12.815232Z"
    }
   },
   "outputs": [
    {
     "name": "stdout",
     "output_type": "stream",
     "text": [
      "  % Total    % Received % Xferd  Average Speed   Time    Time     Time  Current\n",
      "                                 Dload  Upload   Total   Spent    Left  Speed\n",
      "100  655M  100  655M    0     0  19.4M      0  0:00:33  0:00:33 --:--:-- 39.3M\n"
     ]
    }
   ],
   "source": [
    "!curl https://s3.amazonaws.com/nyc-tlc/trip+data/yellow_tripdata_2019-01.csv > data.csv"
   ]
  },
  {
   "cell_type": "markdown",
   "id": "52ae594b",
   "metadata": {},
   "source": [
    "## Test the CPU with scikit-learn\n",
    "\n",
    "The next chunk computes the time to read the csv in with pandas and then run the scikit-learn random forest model training function."
   ]
  },
  {
   "cell_type": "code",
   "execution_count": 3,
   "id": "c26e082a",
   "metadata": {
    "execution": {
     "iopub.execute_input": "2021-12-10T19:01:03.829195Z",
     "iopub.status.busy": "2021-12-10T19:01:03.828866Z",
     "iopub.status.idle": "2021-12-10T19:06:54.794743Z",
     "shell.execute_reply": "2021-12-10T19:06:54.794075Z",
     "shell.execute_reply.started": "2021-12-10T19:01:03.829167Z"
    }
   },
   "outputs": [
    {
     "name": "stdout",
     "output_type": "stream",
     "text": [
      "CPU: CSV Load: 13 seconds\n",
      "CPU: Random Forest: 337 seconds\n"
     ]
    }
   ],
   "source": [
    "import pandas as pd\n",
    "from sklearn.ensemble import RandomForestClassifier as RFCPU\n",
    "\n",
    "with timing(\"CPU: CSV Load\"):\n",
    "    taxi_cpu = pd.read_csv(\n",
    "        \"data.csv\",\n",
    "        parse_dates=[\"tpep_pickup_datetime\", \"tpep_dropoff_datetime\"],\n",
    "    )\n",
    "\n",
    "X_cpu = taxi_cpu[[\"PULocationID\", \"DOLocationID\", \"passenger_count\"]].fillna(-1)\n",
    "y_cpu = taxi_cpu[\"tip_amount\"] > 1\n",
    "\n",
    "rf_cpu = RFCPU(n_estimators=100, n_jobs=-1)\n",
    "\n",
    "with timing(\"CPU: Random Forest\"):\n",
    "    _ = rf_cpu.fit(X_cpu, y_cpu)"
   ]
  },
  {
   "cell_type": "markdown",
   "id": "443db64d",
   "metadata": {},
   "source": [
    "## Test the GPU with RAPIDS\n",
    "\n",
    "This section uses the `cudf` and `cuml` packages, part of RAPIDS, which perform their loading and model fitting computations using the GPU. You'll notice this runs far faster than the CPU training, while having similar syntax."
   ]
  },
  {
   "cell_type": "code",
   "execution_count": 4,
   "id": "2309bc41",
   "metadata": {
    "execution": {
     "iopub.execute_input": "2021-12-10T19:10:10.880259Z",
     "iopub.status.busy": "2021-12-10T19:10:10.879952Z",
     "iopub.status.idle": "2021-12-10T19:10:38.072478Z",
     "shell.execute_reply": "2021-12-10T19:10:38.071641Z",
     "shell.execute_reply.started": "2021-12-10T19:10:10.880233Z"
    }
   },
   "outputs": [
    {
     "name": "stdout",
     "output_type": "stream",
     "text": [
      "GPU: CSV Load: 3 seconds\n",
      "GPU: Random Forest: 23 seconds\n"
     ]
    }
   ],
   "source": [
    "import cudf\n",
    "from cuml.ensemble import RandomForestClassifier as RFGPU\n",
    "\n",
    "with timing(\"GPU: CSV Load\"):\n",
    "    taxi_gpu = cudf.read_csv(\n",
    "        \"data.csv\",\n",
    "        parse_dates=[\"tpep_pickup_datetime\", \"tpep_dropoff_datetime\"],\n",
    "    )\n",
    "\n",
    "X_gpu = taxi_gpu[[\"PULocationID\", \"DOLocationID\", \"passenger_count\"]].astype(\"float32\").fillna(-1)\n",
    "y_gpu = (taxi_gpu[\"tip_amount\"] > 1).astype(\"int32\")\n",
    "\n",
    "rf_gpu = RFGPU(n_estimators=100)\n",
    "\n",
    "with timing(\"GPU: Random Forest\"):\n",
    "    _ = rf_gpu.fit(X_gpu, y_gpu)"
   ]
  },
  {
   "cell_type": "markdown",
   "id": "74751376",
   "metadata": {},
   "source": [
    "## Comparing results results\n",
    "\n",
    "Finally, we compare the results visually using matplotlib."
   ]
  },
  {
   "cell_type": "code",
   "execution_count": 5,
   "id": "7b8874d3",
   "metadata": {
    "execution": {
     "iopub.execute_input": "2021-12-10T19:11:45.222625Z",
     "iopub.status.busy": "2021-12-10T19:11:45.222326Z",
     "iopub.status.idle": "2021-12-10T19:11:45.272464Z",
     "shell.execute_reply": "2021-12-10T19:11:45.271926Z",
     "shell.execute_reply.started": "2021-12-10T19:11:45.222599Z"
    }
   },
   "outputs": [],
   "source": [
    "import matplotlib as mpl\n",
    "\n",
    "mpl.rcParams[\"figure.dpi\"] = 300\n",
    "\n",
    "df = pd.DataFrame(times, columns=[\"description\", \"Seconds\"])\n",
    "df[[\"Hardware\", \"task\"]] = df.description.str.split(\": \", 1, expand=True)"
   ]
  },
  {
   "cell_type": "code",
   "execution_count": 6,
   "id": "a444b381",
   "metadata": {
    "execution": {
     "iopub.execute_input": "2021-12-10T19:11:45.759835Z",
     "iopub.status.busy": "2021-12-10T19:11:45.759562Z",
     "iopub.status.idle": "2021-12-10T19:11:46.438641Z",
     "shell.execute_reply": "2021-12-10T19:11:46.438046Z",
     "shell.execute_reply.started": "2021-12-10T19:11:45.759812Z"
    }
   },
   "outputs": [
    {
     "data": {
      "image/png": "[encoded data removed]",
      "text/plain": [
       "<Figure size 432x288 with 1 Axes>"
      ]
     },
     "metadata": {
      "needs_background": "light"
     },
     "output_type": "display_data"
    }
   ],
   "source": [
    "df[df.task == \"CSV Load\"].plot(\n",
    "    title=\"CSV Load\",\n",
    "    kind=\"bar\",\n",
    "    x=\"Hardware\",\n",
    "    y=\"Seconds\",\n",
    ");"
   ]
  },
  {
   "cell_type": "code",
   "execution_count": 7,
   "id": "e1acfec9",
   "metadata": {
    "execution": {
     "iopub.execute_input": "2021-12-10T19:11:48.309289Z",
     "iopub.status.busy": "2021-12-10T19:11:48.308959Z",
     "iopub.status.idle": "2021-12-10T19:11:48.412343Z",
     "shell.execute_reply": "2021-12-10T19:11:48.411730Z",
     "shell.execute_reply.started": "2021-12-10T19:11:48.309262Z"
    }
   },
   "outputs": [
    {
     "data": {
      "image/png": "[encoded data removed]",
      "text/plain": [
       "<Figure size 432x288 with 1 Axes>"
      ]
     },
     "metadata": {
      "needs_background": "light"
     },
     "output_type": "display_data"
    }
   ],
   "source": [
    "df[df.task == \"Random Forest\"].plot(\n",
    "    title=\"Random Forest\",\n",
    "    kind=\"bar\",\n",
    "    x=\"Hardware\",\n",
    "    y=\"Seconds\",\n",
    ");"
   ]
  },
  {
   "cell_type": "markdown",
   "id": "894f9dd9",
   "metadata": {},
   "source": [
    "# Bonus: train a model with more data with a Dask cluster\n",
    "\n",
    "This final section of code by using a cluster of machines (each with a GPU) to train a model together with RAPIDS. This allows you to still quickly train models but no longer be limited to data that can fit on a single machine.\n",
    "\n",
    "This code will train a model on approximately **12x the data** as the other two, but still run as nearly quickly as with a single GPU."
   ]
  },
  {
   "cell_type": "code",
   "execution_count": 9,
   "id": "9fac0659",
   "metadata": {
    "execution": {
     "iopub.execute_input": "2021-12-10T19:13:49.912478Z",
     "iopub.status.busy": "2021-12-10T19:13:49.912147Z",
     "iopub.status.idle": "2021-12-10T19:15:00.597800Z",
     "shell.execute_reply": "2021-12-10T19:15:00.597244Z",
     "shell.execute_reply.started": "2021-12-10T19:13:49.912440Z"
    }
   },
   "outputs": [],
   "source": [
    "from dask.distributed import Client, wait\n",
    "from dask_saturn import SaturnCluster\n",
    "import dask_cudf\n",
    "from cuml.dask.ensemble import RandomForestClassifier as RFDask\n",
    "\n",
    "cluster = SaturnCluster()\n",
    "client = Client(cluster)"
   ]
  },
  {
   "cell_type": "code",
   "execution_count": 11,
   "id": "ae471a70",
   "metadata": {
    "execution": {
     "iopub.execute_input": "2021-12-10T19:16:31.324367Z",
     "iopub.status.busy": "2021-12-10T19:16:31.323712Z",
     "iopub.status.idle": "2021-12-10T19:17:02.984693Z",
     "shell.execute_reply": "2021-12-10T19:17:02.984003Z",
     "shell.execute_reply.started": "2021-12-10T19:16:31.324329Z"
    }
   },
   "outputs": [
    {
     "name": "stdout",
     "output_type": "stream",
     "text": [
      "GPU + Dask: Random Forest: 32 seconds\n"
     ]
    }
   ],
   "source": [
    "with timing(\"GPU + Dask: Random Forest (12x the data)\"):\n",
    "    taxi_dask = dask_cudf.read_csv(\n",
    "        \"s3://nyc-tlc/trip data/yellow_tripdata_2019-*.csv\",\n",
    "        parse_dates=[\"tpep_pickup_datetime\", \"tpep_dropoff_datetime\"],\n",
    "        storage_options={\"anon\": True},\n",
    "        assume_missing=True,\n",
    "    )\n",
    "\n",
    "    X_dask = (\n",
    "        taxi_dask[[\"PULocationID\", \"DOLocationID\", \"passenger_count\"]].astype(\"float32\").fillna(-1)\n",
    "    )\n",
    "    y_dask = (taxi_dask[\"tip_amount\"] > 1).astype(\"int32\")\n",
    "\n",
    "    X_dask, y_dask = client.persist([X_dask, y_dask])\n",
    "    _ = wait(X_dask)\n",
    "\n",
    "    rf_dask = RFDask(n_estimators=100)\n",
    "    _ = rf_dask.fit(X_dask, y_dask)"
   ]
  },
  {
   "cell_type": "markdown",
   "id": "e19b832f",
   "metadata": {},
   "source": [
    "## Conclusion\n",
    "\n",
    "As the example showed, a model using RAPIDS can be trained far more quickly than one on a CPU. RAPIDS can also run far more quickly by using Dask to connect multiple machines together."
   ]
  }
 ],
 "metadata": {
  "kernelspec": {
   "display_name": "saturn (Python 3)",
   "language": "python",
   "name": "python3"
  },
  "language_info": {
   "codemirror_mode": {
    "name": "ipython",
    "version": 3
   },
   "file_extension": ".py",
   "mimetype": "text/x-python",
   "name": "python",
   "nbconvert_exporter": "python",
   "pygments_lexer": "ipython3",
   "version": "3.7.10"
  }
 },
 "nbformat": 4,
 "nbformat_minor": 5
}
