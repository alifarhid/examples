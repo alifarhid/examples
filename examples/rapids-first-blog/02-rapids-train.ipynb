{
 "cells": [
  {
   "cell_type": "markdown",
   "id": "059ae374-4dbe-47fb-a881-96fc2295ee61",
   "metadata": {},
   "source": [
    "# Use RAPIDS CuDF and CuML\n",
    "This notebook gives an example of creating a regression model to predict the price of train tickets using CuDF dataframe and CuML. Hence instead of utilizing CPUs our computations will run on GPUs.\n",
    "\n",
    "Import cuDF and read the file from public storage."
   ]
  },
  {
   "cell_type": "code",
   "execution_count": null,
   "id": "18bbdb46-c14c-4d21-965a-1274a8aa33d9",
   "metadata": {
    "execution": {
     "iopub.execute_input": "2022-02-08T20:44:22.612066Z",
     "iopub.status.busy": "2022-02-08T20:44:22.611814Z",
     "iopub.status.idle": "2022-02-08T20:44:28.054212Z",
     "shell.execute_reply": "2022-02-08T20:44:28.053655Z",
     "shell.execute_reply.started": "2022-02-08T20:44:22.612004Z"
    }
   },
   "outputs": [],
   "source": [
    "import cudf\n",
    "\n",
    "spain = cudf.read_csv(\n",
    "    \"https://saturn-public-data.s3.us-east-2.amazonaws.com/examples/dashboard/thegurus_opendata_renfe_trips_filtered.csv\"\n",
    ")"
   ]
  },
  {
   "cell_type": "markdown",
   "id": "7c3038ce-6e1c-4ef4-a23f-77b528e986d9",
   "metadata": {},
   "source": [
    "### Feature Engineering\n",
    "Now we will do some feature engineering. First we filter the dataframe for rows which do not have missing price value and used `astype` function to change the data types from string to datetime. To set the dataframe index from column insert_date, we have used method `set_index` and created new columns. Then we select the predictors and target variable. Notice so far the syntax is same as we used with pandas dataframe. There is slight syntax variation for converting categorical variables of X dataframe to binary vector form, here we are using function `one_hot_encoding`."
   ]
  },
  {
   "cell_type": "code",
   "execution_count": null,
   "id": "2da89c64-941e-4993-b78b-cf487d80adf3",
   "metadata": {
    "execution": {
     "iopub.execute_input": "2022-02-08T20:44:28.055353Z",
     "iopub.status.busy": "2022-02-08T20:44:28.055083Z",
     "iopub.status.idle": "2022-02-08T20:44:28.883589Z",
     "shell.execute_reply": "2022-02-08T20:44:28.883063Z",
     "shell.execute_reply.started": "2022-02-08T20:44:28.055326Z"
    }
   },
   "outputs": [],
   "source": [
    "# Extract only the rows where column price is not null ( Objective 1)\n",
    "spain = spain[spain[\"price\"].notnull()]\n",
    "\n",
    "# Convert dataType for columns ‘departure’, ‘arrival' and   \t'insert_date' ( Objective 2)\n",
    "spain[\"departure\"] = spain[\"departure\"].astype(\"datetime64[ns]\")\n",
    "spain[\"arrival\"] = spain[\"arrival\"].astype(\"datetime64[ns]\")\n",
    "spain[\"insert_date\"] = spain[\"insert_date\"].astype(\"datetime64[ns]\")\n",
    "\n",
    "# Set column insert_date as index . Create new columns  ‘Year’,     \t‘Hour’, ‘Month’ from index. ( Objective 3)\n",
    "spain.set_index(\"insert_date\", inplace=True)\n",
    "\n",
    "# Create new columns ‘Year’,‘Hour’, ‘Month’ from index.\n",
    "spain[\"Year\"] = spain.index.year\n",
    "spain[\"Hour\"] = spain.index.hour\n",
    "spain[\"Month\"] = spain.index.month\n",
    "\n",
    "# Splitting the data to dependent and independent variables\n",
    "X = spain[[\"origin\", \"destination\", \"duration\", \"Hour\", \"Month\", \"Year\"]]\n",
    "y = spain[\"price\"]\n",
    "# Perform one hot coding over ‘origin’ and ‘destination’ ( Objective 4)\n",
    "X = X.one_hot_encoding(\n",
    "    \"origin\", prefix=\"origin_\", cats=[\"BARCELONA\", \"SEVILLA\", \"VALENCIA\", \"MADRID\", \"PONFERRADA\"]\n",
    ")\n",
    "X = X.one_hot_encoding(\n",
    "    \"destination\",\n",
    "    prefix=\"destination_\",\n",
    "    cats=[\"BARCELONA\", \"SEVILLA\", \"VALENCIA\", \"MADRID\", \"PONFERRADA\"],\n",
    ")\n",
    "X = X.drop([\"destination\", \"origin\"], axis=1)"
   ]
  },
  {
   "cell_type": "markdown",
   "id": "65dccfac-e722-40ae-baa8-1ee48ef71e70",
   "metadata": {},
   "source": [
    "### Model Creation with Linear Regression\n",
    "To perform linear regression we first import necessary libraries, `train_test_split` and `LinearRegression` from cuml. Then we call the model, fitting the training set and predicting the test set.\n"
   ]
  },
  {
   "cell_type": "code",
   "execution_count": null,
   "id": "b23c9e5d-5a58-4bf7-9f8a-72f0bbca511c",
   "metadata": {
    "execution": {
     "iopub.execute_input": "2022-02-08T20:44:28.885212Z",
     "iopub.status.busy": "2022-02-08T20:44:28.885024Z",
     "iopub.status.idle": "2022-02-08T20:44:33.975977Z",
     "shell.execute_reply": "2022-02-08T20:44:33.975446Z",
     "shell.execute_reply.started": "2022-02-08T20:44:28.885192Z"
    }
   },
   "outputs": [],
   "source": [
    "from cuml import train_test_split\n",
    "from cuml import LinearRegression\n",
    "\n",
    "x_train, x_test, y_train, y_test = train_test_split(X, y, test_size=0.2)\n",
    "lr = LinearRegression(fit_intercept=True, normalize=False)\n",
    "lr.fit(x_train, y_train)\n",
    "preds = lr.predict(x_test)"
   ]
  },
  {
   "cell_type": "markdown",
   "id": "483ee495-2e67-452c-b85f-ce9ad952df67",
   "metadata": {},
   "source": [
    "### Model Creation with ElasticNet Regression\n",
    "Now let us regularize the linear regression model by constraining weights. I choose ElasticNet, which is the combination of L1 and L2. Notice I made no changes to code relative to what we do in sklearn, except for the imported libraries."
   ]
  },
  {
   "cell_type": "code",
   "execution_count": null,
   "id": "e5818c1d-701b-41da-9c0a-51d78f69cbc3",
   "metadata": {
    "execution": {
     "iopub.execute_input": "2022-02-08T20:44:33.977104Z",
     "iopub.status.busy": "2022-02-08T20:44:33.976836Z",
     "iopub.status.idle": "2022-02-08T20:44:34.020891Z",
     "shell.execute_reply": "2022-02-08T20:44:34.020399Z",
     "shell.execute_reply.started": "2022-02-08T20:44:33.977081Z"
    },
    "tags": []
   },
   "outputs": [],
   "source": [
    "from cuml.linear_model import ElasticNet\n",
    "\n",
    "regr = ElasticNet(alpha=0.1, l1_ratio=0.5)\n",
    "result_enet = regr.fit(x_train, y_train)\n",
    "preds = result_enet.predict(x_test)"
   ]
  }
 ],
 "metadata": {
  "kernelspec": {
   "display_name": "Python 3",
   "language": "python",
   "name": "python3"
  },
  "language_info": {
   "codemirror_mode": {
    "name": "ipython",
    "version": 3
   },
   "file_extension": ".py",
   "mimetype": "text/x-python",
   "name": "python",
   "nbconvert_exporter": "python",
   "pygments_lexer": "ipython3",
   "version": "3.8.8"
  }
 },
 "nbformat": 4,
 "nbformat_minor": 5
}
