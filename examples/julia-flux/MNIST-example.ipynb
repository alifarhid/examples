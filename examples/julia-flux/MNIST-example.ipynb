{
 "cells": [
  {
   "cell_type": "markdown",
   "id": "4f705426-0538-4858-9681-f60159298780",
   "metadata": {},
   "source": [
    "# Train a Simple Machine Learning Model Using Julia"
   ]
  },
  {
   "cell_type": "markdown",
   "id": "55af3953-a4ac-421d-8fa0-5ff3cffb27ea",
   "metadata": {
    "execution": {
     "iopub.execute_input": "2022-03-07T14:49:27.748000Z",
     "iopub.status.busy": "2022-03-07T14:49:27.237000Z",
     "iopub.status.idle": "2022-03-07T14:49:28.718000Z",
     "shell.execute_reply": "2022-03-07T14:49:28.718000Z"
    }
   },
   "source": [
    "![Julia Logo](https://saturn-public-assets.s3.us-east-2.amazonaws.com/example-resources/julia-logo.png \"doc-image\")"
   ]
  },
  {
   "cell_type": "markdown",
   "id": "6a1daeeb-2625-406d-a2f8-ebd3e9038864",
   "metadata": {},
   "source": [
    "## Overview\n",
    "\n",
    "This example describes how to run a neural learning workflow using the famous MNIST dataset of handwritten digits. Flux.jl is a powerful Julia library for many types of machine learning, including neural networks. We will training a neural network on images of handwritten numbers to create an image classifier. \n",
    "\n",
    "## Modeling Process\n",
    "\n",
    "### Imports\n",
    "This exercise uses [Flux](https://fluxml.ai/Flux.jl/stable/) to train a simple neural network. The code loads several functions from Flux as well as some base functions."
   ]
  },
  {
   "cell_type": "code",
   "execution_count": null,
   "id": "e4aa04db-32f7-4610-87f7-1f185251ee91",
   "metadata": {
    "execution": {
     "iopub.execute_input": "2022-03-18T16:16:44.086000Z",
     "iopub.status.busy": "2022-03-18T16:16:43.592000Z",
     "iopub.status.idle": "2022-03-18T16:16:58.181000Z",
     "shell.execute_reply": "2022-03-18T16:16:58.109000Z"
    },
    "tags": []
   },
   "outputs": [],
   "source": [
    "using Flux, Flux.Data.MNIST\n",
    "using CUDA\n",
    "using Flux: onehotbatch, argmax, crossentropy, throttle, @epochs\n",
    "using Base.Iterators: repeated\n",
    "using Images"
   ]
  },
  {
   "cell_type": "markdown",
   "id": "d76fe91c-d27e-46d8-8993-f79951de8235",
   "metadata": {},
   "source": [
    "We can then check to see if CUDA is enabled. This will allow the model to run on the GPU instead of the CPU. This is potentially faster to train, but the speedup depends on a lot of factors."
   ]
  },
  {
   "cell_type": "code",
   "execution_count": null,
   "id": "d6a16dca-7894-40b1-8950-e57179476753",
   "metadata": {
    "execution": {
     "iopub.execute_input": "2022-03-18T16:16:58.367000Z",
     "iopub.status.busy": "2022-03-18T16:16:58.181000Z",
     "iopub.status.idle": "2022-03-18T16:16:59.887000Z",
     "shell.execute_reply": "2022-03-18T16:16:59.887000Z"
    },
    "tags": []
   },
   "outputs": [],
   "source": [
    "CUDA.functional()"
   ]
  },
  {
   "cell_type": "markdown",
   "id": "67acb25f-3982-42ca-9a0f-577229d9f7c4",
   "metadata": {},
   "source": [
    "### Download and Examine the Dataset\n",
    "First, we need to download the dataset. Flux has several built-in datasets, including MNIST. We can then take a look at the first image to see the type of data we are dealing with."
   ]
  },
  {
   "cell_type": "code",
   "execution_count": null,
   "id": "e66ac583-3161-4854-850f-94aa452b3f20",
   "metadata": {
    "execution": {
     "iopub.execute_input": "2022-03-18T16:16:59.887000Z",
     "iopub.status.busy": "2022-03-18T16:16:59.887000Z",
     "iopub.status.idle": "2022-03-18T16:17:03.966000Z",
     "shell.execute_reply": "2022-03-18T16:17:03.966000Z"
    },
    "tags": []
   },
   "outputs": [],
   "source": [
    "imgs = MNIST.images();\n",
    "colorview(Gray, imgs[1])"
   ]
  },
  {
   "cell_type": "code",
   "execution_count": null,
   "id": "959b6f7d-04a9-4e91-b94a-0bd3470b3388",
   "metadata": {
    "execution": {
     "iopub.execute_input": "2022-03-18T16:17:03.966000Z",
     "iopub.status.busy": "2022-03-18T16:17:03.966000Z",
     "iopub.status.idle": "2022-03-18T16:17:04.242000Z",
     "shell.execute_reply": "2022-03-18T16:17:04.242000Z"
    },
    "tags": []
   },
   "outputs": [],
   "source": [
    "labels = MNIST.labels();\n",
    "labels[1]"
   ]
  },
  {
   "cell_type": "markdown",
   "id": "50508973-ad04-4079-941e-b48087d76b0a",
   "metadata": {},
   "source": [
    "We next convert the data into float32s to speed up training and reduce memory footprint while retaining precision."
   ]
  },
  {
   "cell_type": "code",
   "execution_count": null,
   "id": "ce69e7ce-08d7-4ba9-863d-07ec88792f8e",
   "metadata": {
    "execution": {
     "iopub.execute_input": "2022-03-18T16:17:04.242000Z",
     "iopub.status.busy": "2022-03-18T16:17:04.242000Z",
     "iopub.status.idle": "2022-03-18T16:17:05.671000Z",
     "shell.execute_reply": "2022-03-18T16:17:05.671000Z"
    },
    "tags": []
   },
   "outputs": [],
   "source": [
    "float32converter(X) = Float32.(X)\n",
    "f32_imgs = float32converter.(imgs)"
   ]
  },
  {
   "cell_type": "markdown",
   "id": "5e0e0b63-d95e-4345-9239-db6a8eebbc6c",
   "metadata": {
    "execution": {
     "iopub.execute_input": "2022-03-07T14:56:21.864000Z",
     "iopub.status.busy": "2022-03-07T14:56:21.864000Z",
     "iopub.status.idle": "2022-03-07T14:56:21.875000Z",
     "shell.execute_reply": "2022-03-07T14:56:21.875000Z"
    }
   },
   "source": [
    "We then convert the individual images to a single vector of size 784 (28x28) by 60000 (the number of images)."
   ]
  },
  {
   "cell_type": "code",
   "execution_count": null,
   "id": "212787c8-abbb-4cd5-bd83-8d879654a7dc",
   "metadata": {
    "execution": {
     "iopub.execute_input": "2022-03-18T16:17:05.671000Z",
     "iopub.status.busy": "2022-03-18T16:17:05.671000Z",
     "iopub.status.idle": "2022-03-18T16:17:06.174000Z",
     "shell.execute_reply": "2022-03-18T16:17:06.174000Z"
    },
    "tags": []
   },
   "outputs": [],
   "source": [
    "vectorize(x) = x[:]\n",
    "vectorized_imgs = vectorize.(f32_imgs);"
   ]
  },
  {
   "cell_type": "code",
   "execution_count": null,
   "id": "0c13a97b-3ca9-4a70-9942-7a867735de74",
   "metadata": {
    "execution": {
     "iopub.execute_input": "2022-03-18T16:17:06.175000Z",
     "iopub.status.busy": "2022-03-18T16:17:06.174000Z",
     "iopub.status.idle": "2022-03-18T16:17:06.979000Z",
     "shell.execute_reply": "2022-03-18T16:17:06.979000Z"
    },
    "tags": []
   },
   "outputs": [],
   "source": [
    "X = hcat(vectorized_imgs...)\n",
    "size(X)"
   ]
  },
  {
   "cell_type": "markdown",
   "id": "4d3a1f70-d255-41a7-ae5d-c0206e9f0395",
   "metadata": {},
   "source": [
    "To look at only one image, we have to select a column and reshape."
   ]
  },
  {
   "cell_type": "code",
   "execution_count": null,
   "id": "e5b8925f-7ec6-4794-a8f1-c07416da8e53",
   "metadata": {
    "execution": {
     "iopub.execute_input": "2022-03-18T16:17:06.979000Z",
     "iopub.status.busy": "2022-03-18T16:17:06.979000Z",
     "iopub.status.idle": "2022-03-18T16:17:08.071000Z",
     "shell.execute_reply": "2022-03-18T16:17:08.071000Z"
    },
    "tags": []
   },
   "outputs": [],
   "source": [
    "one_image = X[:,1]\n",
    "image_1 = reshape(one_image,28,28)\n",
    "colorview(Gray,image_1)"
   ]
  },
  {
   "cell_type": "markdown",
   "id": "378929c3-9702-4df5-b14b-e5a7fa0f7c27",
   "metadata": {},
   "source": [
    "Lastly, we transform the labels from digits to one-hot vectors. For example, if the label is 3, the y value will be [0 0 0 1 0 0 0 0 0 0]."
   ]
  },
  {
   "cell_type": "code",
   "execution_count": null,
   "id": "55b2e152-bb36-4246-ae41-aaa440b80f30",
   "metadata": {
    "execution": {
     "iopub.execute_input": "2022-03-18T16:17:08.072000Z",
     "iopub.status.busy": "2022-03-18T16:17:08.071000Z",
     "iopub.status.idle": "2022-03-18T16:17:09.037000Z",
     "shell.execute_reply": "2022-03-18T16:17:09.037000Z"
    },
    "tags": []
   },
   "outputs": [],
   "source": [
    "y = onehotbatch(labels, 0:9)"
   ]
  },
  {
   "cell_type": "markdown",
   "id": "e69bd0e1-61b7-4f5c-a268-0bb59d7b2810",
   "metadata": {},
   "source": [
    "### Build and Train the Model\n",
    "Now we will actually build out neural network model. We will use a 32 node hidden layer and a 10 node output layer."
   ]
  },
  {
   "cell_type": "code",
   "execution_count": null,
   "id": "abc60142-5169-42b4-9921-9542b7a26c97",
   "metadata": {
    "execution": {
     "iopub.execute_input": "2022-03-18T16:17:09.037000Z",
     "iopub.status.busy": "2022-03-18T16:17:09.037000Z",
     "iopub.status.idle": "2022-03-18T16:17:12.156000Z",
     "shell.execute_reply": "2022-03-18T16:17:12.156000Z"
    },
    "tags": []
   },
   "outputs": [],
   "source": [
    "model = Chain(\n",
    "        Dense(28^2, 32, relu),\n",
    "        Dense(32, 10),\n",
    "        softmax)"
   ]
  },
  {
   "cell_type": "markdown",
   "id": "38889a9b-3c00-4694-9354-c986c47b5493",
   "metadata": {
    "execution": {
     "iopub.execute_input": "2022-03-07T15:01:30.893000Z",
     "iopub.status.busy": "2022-03-07T15:01:30.893000Z",
     "iopub.status.idle": "2022-03-07T15:01:30.909000Z",
     "shell.execute_reply": "2022-03-07T15:01:30.908000Z"
    }
   },
   "source": [
    "If we take a look at the output of the model now, we can see that it was initialized without any knowledge of the input. Each digit is approximately equally likely as an output."
   ]
  },
  {
   "cell_type": "code",
   "execution_count": null,
   "id": "97e70511-8cd8-4acc-b621-9a8c4bd2258c",
   "metadata": {
    "execution": {
     "iopub.execute_input": "2022-03-18T16:17:12.157000Z",
     "iopub.status.busy": "2022-03-18T16:17:12.156000Z",
     "iopub.status.idle": "2022-03-18T16:17:16.912000Z",
     "shell.execute_reply": "2022-03-18T16:17:16.912000Z"
    },
    "tags": []
   },
   "outputs": [],
   "source": [
    "model(one_image)"
   ]
  },
  {
   "cell_type": "markdown",
   "id": "7b516664-5868-4bd3-94f4-a25a67b38773",
   "metadata": {},
   "source": [
    "We then move the data to the GPU for processing. This is accomplished using the `fmap` function for the model and the `cu` function for the data."
   ]
  },
  {
   "cell_type": "code",
   "execution_count": null,
   "id": "a6490715-fb36-44c9-a5ef-b6c3bc00a3b4",
   "metadata": {
    "execution": {
     "iopub.execute_input": "2022-03-18T16:17:16.929000Z",
     "iopub.status.busy": "2022-03-18T16:17:16.929000Z"
    }
   },
   "outputs": [],
   "source": [
    "X = cu(X)\n",
    "y = cu(y)\n",
    "model = fmap(cu, model)"
   ]
  },
  {
   "cell_type": "markdown",
   "id": "db98dc8c-ea79-4b8f-82fa-a928134cbfcd",
   "metadata": {},
   "source": [
    "Next, we will set up our loss and optimization functions. We also create an function to display the loss at each step and define the parameters of the model."
   ]
  },
  {
   "cell_type": "code",
   "execution_count": null,
   "id": "a9ea773f-1e89-4118-a0bf-8688e1ea4e95",
   "metadata": {
    "execution": {
     "iopub.execute_input": "2022-03-18T16:17:16.912000Z",
     "iopub.status.busy": "2022-03-18T16:17:16.912000Z",
     "iopub.status.idle": "2022-03-18T16:17:16.929000Z",
     "shell.execute_reply": "2022-03-18T16:17:16.929000Z"
    },
    "tags": []
   },
   "outputs": [],
   "source": [
    "loss(x, y) = Flux.crossentropy(model(x), y)\n",
    "opt = ADAM()\n",
    "evalcb = () -> @show(loss(X, y))\n",
    "ps = Flux.params(model);"
   ]
  },
  {
   "cell_type": "markdown",
   "id": "776f2f39-dca0-46d7-ad2b-fdb4fbcc388d",
   "metadata": {},
   "source": [
    "We will then repeat the data we send to the neural network. This is a simple way to give the network more chances for corrections."
   ]
  },
  {
   "cell_type": "code",
   "execution_count": null,
   "id": "5380301f-169b-4777-aa8f-5c59fce9046d",
   "metadata": {
    "tags": []
   },
   "outputs": [],
   "source": [
    "dataset_x = repeated((X, y), 200)\n",
    "C = collect(dataset_x);"
   ]
  },
  {
   "cell_type": "markdown",
   "id": "f3058d72-c46b-4878-b927-0f963f1c7b9b",
   "metadata": {},
   "source": [
    "And finally we train the model for 10 epochs on the GPU. You can type `watch nvidia-smi` in a terminal to see the GPU utilization."
   ]
  },
  {
   "cell_type": "code",
   "execution_count": null,
   "id": "91124f7e-3540-4b6d-8dc6-255058720e17",
   "metadata": {
    "tags": []
   },
   "outputs": [],
   "source": [
    "@epochs 10 Flux.train!(loss, ps, dataset_x, opt, cb = throttle(evalcb, 10))"
   ]
  },
  {
   "cell_type": "markdown",
   "id": "d6672aca-ca04-4777-be0e-626584d0504d",
   "metadata": {
    "execution": {
     "iopub.execute_input": "2022-03-07T15:11:40.903000Z",
     "iopub.status.busy": "2022-03-07T15:11:40.902000Z",
     "iopub.status.idle": "2022-03-07T15:11:40.924000Z",
     "shell.execute_reply": "2022-03-07T15:11:40.920000Z"
    }
   },
   "source": [
    "We can check how the model performs on the test set. We move the model back to the CPU for this step. \n",
    "\n",
    "Here we simply choose the first image to check. The maximum value of the model output is at the index corresponding to the digit 7 (which aligns with the actual image)."
   ]
  },
  {
   "cell_type": "code",
   "execution_count": null,
   "id": "67b087e0-1ba3-405a-8479-b81ec7e6383c",
   "metadata": {
    "tags": []
   },
   "outputs": [],
   "source": [
    "X_test = hcat(float.(reshape.(MNIST.images(:test), :))...);\n",
    "model = model |> cpu\n",
    "\n",
    "test_image = model(X_test[:,1])\n",
    "float32converter.(test_image)"
   ]
  },
  {
   "cell_type": "code",
   "execution_count": null,
   "id": "3c9054f6-a82f-43b2-a1f3-95c9ba65f1de",
   "metadata": {
    "tags": []
   },
   "outputs": [],
   "source": [
    "argmax(test_image) - 1"
   ]
  },
  {
   "cell_type": "code",
   "execution_count": null,
   "id": "c0cf8d00-8680-44c5-8847-5f21fd584703",
   "metadata": {
    "tags": []
   },
   "outputs": [],
   "source": [
    "test_image_1 = reshape(X_test[:,1],28,28)\n",
    "colorview(Gray, test_image_1)"
   ]
  },
  {
   "cell_type": "markdown",
   "id": "123ac674-2e60-4b6c-be48-2a177da3bd7e",
   "metadata": {},
   "source": [
    "## Conclusion\n",
    "Using Julia and the Flux package makes creating and training a simple neural network easy. Check out the rest of the [Flux documentation](https://fluxml.ai/Flux.jl/stable/) to see how to extend this process to more complex examples."
   ]
  }
 ],
 "metadata": {
  "kernelspec": {
   "display_name": "Julia 1.7.2",
   "language": "julia",
   "name": "julia-1.7"
  },
  "language_info": {
   "file_extension": ".jl",
   "mimetype": "application/julia",
   "name": "julia",
   "version": "1.7.2"
  }
 },
 "nbformat": 4,
 "nbformat_minor": 5
}
