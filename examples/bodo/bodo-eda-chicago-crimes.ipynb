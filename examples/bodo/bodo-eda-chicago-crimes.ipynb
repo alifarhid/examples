{
 "cells": [
  {
   "cell_type": "markdown",
   "metadata": {},
   "source": [
    "# Chicago Crimes - Single-Node Bodo - Jupyter Notebook\n",
    "\n",
    "This example shows an exploratory data analysis (EDA) of crimes in Chicago using the HPC-like platform Bodo using a notebook on a single node. Chicago crime data is extracted from Bodo's public repository, cleaned and processed. Then some analysis are done to extract insight. All are **parallelized across multiple cores using Bodo**. This can be a straightforward way to\n",
    "make Python code run faster than it would otherwise without requiring much change to the code. Original example can be found [here](https://medium.com/@ahsanzafar222/chicago-crime-data-cleaning-and-eda-a744c687a291) and [here](https://www.kaggle.com/fahd09/eda-of-crime-in-chicago-2005-2016).\n",
    "\n",
    "The Bodo framework knows when to parallelize code based on the `%%px` at the start of cells and `@bodo.jit` function decorators. Removing those and restarting the kernel will run the code without Bodo.\n",
    "\n",
    "**The Bodo parallel cluster in this example runs within the same Saturn Cloud resource as the notebook.** Thus, to increase the performance of the Bodo cluster you only need to increase the instance size of the Jupyter Server resource it's running on.\n",
    "\n",
    "**To scale and run your application with multiple nodes you can use [Bodo platform](https://platform.bodo.ai/account/login)**"
   ]
  },
  {
   "cell_type": "markdown",
   "metadata": {},
   "source": [
    "## Start an IPyParallel cluster\n",
    "\n",
    "Run the following code in a cell to start an IPyParallel cluster. IPyParallel is used to interactively control a cluster of IPython processes. The variable `n` is used to specify the number of clusters based on the number of CPU cores available (up to 8 in the free Bodo Community Edition)."
   ]
  },
  {
   "cell_type": "code",
   "execution_count": 1,
   "metadata": {
    "execution": {
     "iopub.execute_input": "2022-04-04T23:32:08.011028Z",
     "iopub.status.busy": "2022-04-04T23:32:08.010692Z",
     "iopub.status.idle": "2022-04-04T23:32:08.014569Z",
     "shell.execute_reply": "2022-04-04T23:32:08.014008Z",
     "shell.execute_reply.started": "2022-04-04T23:32:08.010994Z"
    },
    "tags": []
   },
   "outputs": [],
   "source": [
    "import ipyparallel as ipp\n",
    "import psutil\n",
    "\n",
    "n = min(psutil.cpu_count(logical=False), 8)\n",
    "\n",
    "# command to create and start the local cluster\n",
    "rc = ipp.Cluster(engines=\"mpi\", n=n).start_and_connect_sync(activate=True)"
   ]
  },
  {
   "cell_type": "code",
   "execution_count": 2,
   "metadata": {
    "execution": {
     "iopub.execute_input": "2022-04-04T23:32:14.820016Z",
     "iopub.status.busy": "2022-04-04T23:32:14.819682Z",
     "iopub.status.idle": "2022-04-04T23:32:26.040702Z",
     "shell.execute_reply": "2022-04-04T23:32:26.040040Z",
     "shell.execute_reply.started": "2022-04-04T23:32:14.819989Z"
    }
   },
   "outputs": [
    {
     "name": "stdout",
     "output_type": "stream",
     "text": [
      "Starting 4 engines with <class 'ipyparallel.cluster.launcher.MPIEngineSetLauncher'>\n"
     ]
    },
    {
     "data": {
      "application/vnd.jupyter.widget-view+json": {
       "model_id": "2a74e119c9e9405f8ed6f0b3c4f051a6",
       "version_major": 2,
       "version_minor": 0
      },
      "text/plain": [
       "  0%|          | 0/4 [00:00<?, ?engine/s]"
      ]
     },
     "metadata": {},
     "output_type": "display_data"
    },
    {
     "data": {
      "text/plain": [
       "[stdout:1] Hello World from rank 1. Total ranks=4\n"
      ]
     },
     "metadata": {},
     "output_type": "display_data"
    },
    {
     "data": {
      "application/vnd.jupyter.widget-view+json": {
       "model_id": "0eabf3f945534db99b4571fc83e6f638",
       "version_major": 2,
       "version_minor": 0
      },
      "text/plain": [
       "%px:   0%|          | 0/4 [00:00<?, ?tasks/s]"
      ]
     },
     "metadata": {},
     "output_type": "display_data"
    },
    {
     "data": {
      "text/plain": [
       "[stdout:2] Hello World from rank 2. Total ranks=4\n"
      ]
     },
     "metadata": {},
     "output_type": "display_data"
    },
    {
     "data": {
      "text/plain": [
       "[stdout:0] Hello World from rank 0. Total ranks=4\n"
      ]
     },
     "metadata": {},
     "output_type": "display_data"
    },
    {
     "data": {
      "text/plain": [
       "[stdout:3] Hello World from rank 3. Total ranks=4\n"
      ]
     },
     "metadata": {},
     "output_type": "display_data"
    }
   ],
   "source": [
    "%%px\n",
    "import numpy as np\n",
    "import pandas as pd\n",
    "import time\n",
    "import bodo\n",
    "\n",
    "print(f\"Hello World from rank {bodo.get_rank()}. Total ranks={bodo.get_size()}\")"
   ]
  },
  {
   "cell_type": "markdown",
   "metadata": {},
   "source": [
    "## Load Crimes Data in Chicago 2005 - 2017"
   ]
  },
  {
   "cell_type": "code",
   "execution_count": 2,
   "metadata": {
    "execution": {
     "iopub.execute_input": "2022-04-04T23:18:12.067799Z",
     "iopub.status.busy": "2022-04-04T23:18:12.067502Z",
     "iopub.status.idle": "2022-04-04T23:18:16.414665Z",
     "shell.execute_reply": "2022-04-04T23:18:16.414116Z",
     "shell.execute_reply.started": "2022-04-04T23:18:12.067772Z"
    },
    "tags": []
   },
   "outputs": [
    {
     "data": {
      "application/vnd.jupyter.widget-view+json": {
       "model_id": "9f39a65286544bf29042777fde70c185",
       "version_major": 2,
       "version_minor": 0
      },
      "text/plain": [
       "%px:   0%|          | 0/4 [00:00<?, ?tasks/s]"
      ]
     },
     "metadata": {},
     "output_type": "display_data"
    },
    {
     "data": {
      "text/plain": [
       "[stdout:0] Reading time:  3257.5977829956173  (ms)\n"
      ]
     },
     "metadata": {},
     "output_type": "display_data"
    },
    {
     "data": {
      "text/plain": [
       "[output:0]"
      ]
     },
     "metadata": {},
     "output_type": "display_data"
    },
    {
     "data": {
      "text/html": [
       "<div>\n",
       "<style scoped>\n",
       "    .dataframe tbody tr th:only-of-type {\n",
       "        vertical-align: middle;\n",
       "    }\n",
       "\n",
       "    .dataframe tbody tr th {\n",
       "        vertical-align: top;\n",
       "    }\n",
       "\n",
       "    .dataframe thead th {\n",
       "        text-align: right;\n",
       "    }\n",
       "</style>\n",
       "<table border=\"1\" class=\"dataframe\">\n",
       "  <thead>\n",
       "    <tr style=\"text-align: right;\">\n",
       "      <th></th>\n",
       "      <th>Unnamed: 0</th>\n",
       "      <th>ID</th>\n",
       "      <th>Case Number</th>\n",
       "      <th>Date</th>\n",
       "      <th>Block</th>\n",
       "      <th>IUCR</th>\n",
       "      <th>Primary Type</th>\n",
       "      <th>Description</th>\n",
       "      <th>Location Description</th>\n",
       "      <th>Arrest</th>\n",
       "      <th>...</th>\n",
       "      <th>Ward</th>\n",
       "      <th>Community Area</th>\n",
       "      <th>FBI Code</th>\n",
       "      <th>X Coordinate</th>\n",
       "      <th>Y Coordinate</th>\n",
       "      <th>Year</th>\n",
       "      <th>Updated On</th>\n",
       "      <th>Latitude</th>\n",
       "      <th>Longitude</th>\n",
       "      <th>Location</th>\n",
       "    </tr>\n",
       "  </thead>\n",
       "  <tbody>\n",
       "    <tr>\n",
       "      <th>1267592</th>\n",
       "      <td>4105311</td>\n",
       "      <td>20224</td>\n",
       "      <td>HV101396</td>\n",
       "      <td>01/02/2012 02:22:00 AM</td>\n",
       "      <td>030XX W LAWRENCE AVE</td>\n",
       "      <td>0110</td>\n",
       "      <td>HOMICIDE</td>\n",
       "      <td>FIRST DEGREE MURDER</td>\n",
       "      <td>AUTO</td>\n",
       "      <td>False</td>\n",
       "      <td>...</td>\n",
       "      <td>33.0</td>\n",
       "      <td>14.0</td>\n",
       "      <td>01A</td>\n",
       "      <td>1155053.0</td>\n",
       "      <td>1931730.0</td>\n",
       "      <td>2012</td>\n",
       "      <td>08/17/2015 03:03:40 PM</td>\n",
       "      <td>41.968480</td>\n",
       "      <td>-87.705260</td>\n",
       "      <td>(41.968479866, -87.705259739)</td>\n",
       "    </tr>\n",
       "    <tr>\n",
       "      <th>1267593</th>\n",
       "      <td>4105388</td>\n",
       "      <td>20225</td>\n",
       "      <td>HV102221</td>\n",
       "      <td>01/02/2012 05:58:00 PM</td>\n",
       "      <td>024XX E 78TH ST</td>\n",
       "      <td>0110</td>\n",
       "      <td>HOMICIDE</td>\n",
       "      <td>FIRST DEGREE MURDER</td>\n",
       "      <td>STREET</td>\n",
       "      <td>False</td>\n",
       "      <td>...</td>\n",
       "      <td>7.0</td>\n",
       "      <td>43.0</td>\n",
       "      <td>01A</td>\n",
       "      <td>1194033.0</td>\n",
       "      <td>1853729.0</td>\n",
       "      <td>2012</td>\n",
       "      <td>08/17/2015 03:03:40 PM</td>\n",
       "      <td>41.753569</td>\n",
       "      <td>-87.564503</td>\n",
       "      <td>(41.75356945, -87.56450286)</td>\n",
       "    </tr>\n",
       "    <tr>\n",
       "      <th>1267594</th>\n",
       "      <td>4105463</td>\n",
       "      <td>20226</td>\n",
       "      <td>HV102145</td>\n",
       "      <td>01/02/2012 05:53:00 PM</td>\n",
       "      <td>066XX S WOLCOTT AVE</td>\n",
       "      <td>0110</td>\n",
       "      <td>HOMICIDE</td>\n",
       "      <td>FIRST DEGREE MURDER</td>\n",
       "      <td>HOUSE</td>\n",
       "      <td>False</td>\n",
       "      <td>...</td>\n",
       "      <td>15.0</td>\n",
       "      <td>67.0</td>\n",
       "      <td>01A</td>\n",
       "      <td>1164829.0</td>\n",
       "      <td>1860636.0</td>\n",
       "      <td>2012</td>\n",
       "      <td>08/17/2015 03:03:40 PM</td>\n",
       "      <td>41.773190</td>\n",
       "      <td>-87.671330</td>\n",
       "      <td>(41.773189519, -87.671329907)</td>\n",
       "    </tr>\n",
       "    <tr>\n",
       "      <th>1267595</th>\n",
       "      <td>4105549</td>\n",
       "      <td>20227</td>\n",
       "      <td>HV101433</td>\n",
       "      <td>01/02/2012 05:15:00 AM</td>\n",
       "      <td>107XX S COTTAGE GROVE AVE</td>\n",
       "      <td>0110</td>\n",
       "      <td>HOMICIDE</td>\n",
       "      <td>FIRST DEGREE MURDER</td>\n",
       "      <td>STREET</td>\n",
       "      <td>True</td>\n",
       "      <td>...</td>\n",
       "      <td>9.0</td>\n",
       "      <td>50.0</td>\n",
       "      <td>01A</td>\n",
       "      <td>1182247.0</td>\n",
       "      <td>1833951.0</td>\n",
       "      <td>2012</td>\n",
       "      <td>08/17/2015 03:03:40 PM</td>\n",
       "      <td>41.699577</td>\n",
       "      <td>-87.608304</td>\n",
       "      <td>(41.699577165, -87.608304224)</td>\n",
       "    </tr>\n",
       "    <tr>\n",
       "      <th>1267596</th>\n",
       "      <td>4105635</td>\n",
       "      <td>20228</td>\n",
       "      <td>HV102986</td>\n",
       "      <td>01/03/2012 12:07:00 PM</td>\n",
       "      <td>010XX N PULASKI RD</td>\n",
       "      <td>0110</td>\n",
       "      <td>HOMICIDE</td>\n",
       "      <td>FIRST DEGREE MURDER</td>\n",
       "      <td>STREET</td>\n",
       "      <td>False</td>\n",
       "      <td>...</td>\n",
       "      <td>37.0</td>\n",
       "      <td>23.0</td>\n",
       "      <td>01A</td>\n",
       "      <td>1149528.0</td>\n",
       "      <td>1906741.0</td>\n",
       "      <td>2012</td>\n",
       "      <td>08/17/2015 03:03:40 PM</td>\n",
       "      <td>41.900017</td>\n",
       "      <td>-87.726226</td>\n",
       "      <td>(41.900017263, -87.726225708)</td>\n",
       "    </tr>\n",
       "  </tbody>\n",
       "</table>\n",
       "<p>5 rows × 23 columns</p>\n",
       "</div>"
      ],
      "text/plain": [
       "         Unnamed: 0     ID Case Number                    Date  \\\n",
       "1267592     4105311  20224    HV101396  01/02/2012 02:22:00 AM   \n",
       "1267593     4105388  20225    HV102221  01/02/2012 05:58:00 PM   \n",
       "1267594     4105463  20226    HV102145  01/02/2012 05:53:00 PM   \n",
       "1267595     4105549  20227    HV101433  01/02/2012 05:15:00 AM   \n",
       "1267596     4105635  20228    HV102986  01/03/2012 12:07:00 PM   \n",
       "\n",
       "                             Block  IUCR Primary Type          Description  \\\n",
       "1267592       030XX W LAWRENCE AVE  0110     HOMICIDE  FIRST DEGREE MURDER   \n",
       "1267593            024XX E 78TH ST  0110     HOMICIDE  FIRST DEGREE MURDER   \n",
       "1267594        066XX S WOLCOTT AVE  0110     HOMICIDE  FIRST DEGREE MURDER   \n",
       "1267595  107XX S COTTAGE GROVE AVE  0110     HOMICIDE  FIRST DEGREE MURDER   \n",
       "1267596         010XX N PULASKI RD  0110     HOMICIDE  FIRST DEGREE MURDER   \n",
       "\n",
       "        Location Description  Arrest  ...  Ward  Community Area  FBI Code  \\\n",
       "1267592                 AUTO   False  ...  33.0            14.0       01A   \n",
       "1267593               STREET   False  ...   7.0            43.0       01A   \n",
       "1267594                HOUSE   False  ...  15.0            67.0       01A   \n",
       "1267595               STREET    True  ...   9.0            50.0       01A   \n",
       "1267596               STREET   False  ...  37.0            23.0       01A   \n",
       "\n",
       "         X Coordinate  Y Coordinate  Year              Updated On   Latitude  \\\n",
       "1267592     1155053.0     1931730.0  2012  08/17/2015 03:03:40 PM  41.968480   \n",
       "1267593     1194033.0     1853729.0  2012  08/17/2015 03:03:40 PM  41.753569   \n",
       "1267594     1164829.0     1860636.0  2012  08/17/2015 03:03:40 PM  41.773190   \n",
       "1267595     1182247.0     1833951.0  2012  08/17/2015 03:03:40 PM  41.699577   \n",
       "1267596     1149528.0     1906741.0  2012  08/17/2015 03:03:40 PM  41.900017   \n",
       "\n",
       "         Longitude                       Location  \n",
       "1267592 -87.705260  (41.968479866, -87.705259739)  \n",
       "1267593 -87.564503    (41.75356945, -87.56450286)  \n",
       "1267594 -87.671330  (41.773189519, -87.671329907)  \n",
       "1267595 -87.608304  (41.699577165, -87.608304224)  \n",
       "1267596 -87.726226  (41.900017263, -87.726225708)  \n",
       "\n",
       "[5 rows x 23 columns]"
      ]
     },
     "metadata": {
      "engine": 0
     },
     "output_type": "display_data"
    }
   ],
   "source": [
    "%%px\n",
    "@bodo.jit(cache=True)\n",
    "def load_chicago_crimes():\n",
    "    t1 = time.time()\n",
    "    crimes = pd.read_parquet('s3://bodo-example-data/chicago-crimes/Chicago_Crimes_2012_to_2017.pq')\n",
    "    crimes = crimes.sort_values(by=\"ID\")    \n",
    "    print(\"Reading time: \", ((time.time() - t1) * 1000), \" (ms)\")    \n",
    "    return crimes\n",
    "\n",
    "crimes1 = load_chicago_crimes()\n",
    "if bodo.get_rank()==0:\n",
    "    display(crimes1.head())"
   ]
  },
  {
   "cell_type": "markdown",
   "metadata": {},
   "source": [
    "## Preprocessing and Cleaning\n",
    " 1. Drop duplicated cases, filter unused columns, and add day of week and date of the crime.\n",
    " 2. Keep only the most frequent crime type categories.\n"
   ]
  },
  {
   "cell_type": "code",
   "execution_count": 3,
   "metadata": {
    "execution": {
     "iopub.execute_input": "2022-04-04T23:18:19.525689Z",
     "iopub.status.busy": "2022-04-04T23:18:19.525359Z",
     "iopub.status.idle": "2022-04-04T23:18:43.932479Z",
     "shell.execute_reply": "2022-04-04T23:18:43.931931Z",
     "shell.execute_reply.started": "2022-04-04T23:18:19.525661Z"
    },
    "tags": []
   },
   "outputs": [
    {
     "data": {
      "application/vnd.jupyter.widget-view+json": {
       "model_id": "45f38a78333747488867de511c1d2cbb",
       "version_major": 2,
       "version_minor": 0
      },
      "text/plain": [
       "%px:   0%|          | 0/4 [00:00<?, ?tasks/s]"
      ]
     },
     "metadata": {},
     "output_type": "display_data"
    },
    {
     "data": {
      "text/plain": [
       "[stdout:0] Data cleanup time:  4282.493192246875  (ms)\n"
      ]
     },
     "metadata": {},
     "output_type": "display_data"
    },
    {
     "data": {
      "text/plain": [
       "[output:0]"
      ]
     },
     "metadata": {},
     "output_type": "display_data"
    },
    {
     "data": {
      "text/html": [
       "<div>\n",
       "<style scoped>\n",
       "    .dataframe tbody tr th:only-of-type {\n",
       "        vertical-align: middle;\n",
       "    }\n",
       "\n",
       "    .dataframe tbody tr th {\n",
       "        vertical-align: top;\n",
       "    }\n",
       "\n",
       "    .dataframe thead th {\n",
       "        text-align: right;\n",
       "    }\n",
       "</style>\n",
       "<table border=\"1\" class=\"dataframe\">\n",
       "  <thead>\n",
       "    <tr style=\"text-align: right;\">\n",
       "      <th></th>\n",
       "      <th>ID</th>\n",
       "      <th>Date</th>\n",
       "      <th>Block</th>\n",
       "      <th>Primary Type</th>\n",
       "      <th>Description</th>\n",
       "      <th>Location Description</th>\n",
       "      <th>Arrest</th>\n",
       "      <th>Domestic</th>\n",
       "      <th>District</th>\n",
       "      <th>X Coordinate</th>\n",
       "      <th>Y Coordinate</th>\n",
       "      <th>Latitude</th>\n",
       "      <th>Longitude</th>\n",
       "      <th>dow</th>\n",
       "      <th>date only</th>\n",
       "    </tr>\n",
       "  </thead>\n",
       "  <tbody>\n",
       "    <tr>\n",
       "      <th>1267592</th>\n",
       "      <td>20224</td>\n",
       "      <td>2012-01-02 02:22:00</td>\n",
       "      <td>030XX W LAWRENCE AVE</td>\n",
       "      <td>HOMICIDE</td>\n",
       "      <td>FIRST DEGREE MURDER</td>\n",
       "      <td>AUTO</td>\n",
       "      <td>False</td>\n",
       "      <td>False</td>\n",
       "      <td>17.0</td>\n",
       "      <td>1155053.0</td>\n",
       "      <td>1931730.0</td>\n",
       "      <td>41.968480</td>\n",
       "      <td>-87.705260</td>\n",
       "      <td>0</td>\n",
       "      <td>2012-01-02</td>\n",
       "    </tr>\n",
       "    <tr>\n",
       "      <th>1267593</th>\n",
       "      <td>20225</td>\n",
       "      <td>2012-01-02 17:58:00</td>\n",
       "      <td>024XX E 78TH ST</td>\n",
       "      <td>HOMICIDE</td>\n",
       "      <td>FIRST DEGREE MURDER</td>\n",
       "      <td>STREET</td>\n",
       "      <td>False</td>\n",
       "      <td>False</td>\n",
       "      <td>4.0</td>\n",
       "      <td>1194033.0</td>\n",
       "      <td>1853729.0</td>\n",
       "      <td>41.753569</td>\n",
       "      <td>-87.564503</td>\n",
       "      <td>0</td>\n",
       "      <td>2012-01-02</td>\n",
       "    </tr>\n",
       "    <tr>\n",
       "      <th>1267594</th>\n",
       "      <td>20226</td>\n",
       "      <td>2012-01-02 17:53:00</td>\n",
       "      <td>066XX S WOLCOTT AVE</td>\n",
       "      <td>HOMICIDE</td>\n",
       "      <td>FIRST DEGREE MURDER</td>\n",
       "      <td>HOUSE</td>\n",
       "      <td>False</td>\n",
       "      <td>False</td>\n",
       "      <td>7.0</td>\n",
       "      <td>1164829.0</td>\n",
       "      <td>1860636.0</td>\n",
       "      <td>41.773190</td>\n",
       "      <td>-87.671330</td>\n",
       "      <td>0</td>\n",
       "      <td>2012-01-02</td>\n",
       "    </tr>\n",
       "    <tr>\n",
       "      <th>1267595</th>\n",
       "      <td>20227</td>\n",
       "      <td>2012-01-02 05:15:00</td>\n",
       "      <td>107XX S COTTAGE GROVE AVE</td>\n",
       "      <td>HOMICIDE</td>\n",
       "      <td>FIRST DEGREE MURDER</td>\n",
       "      <td>STREET</td>\n",
       "      <td>True</td>\n",
       "      <td>False</td>\n",
       "      <td>5.0</td>\n",
       "      <td>1182247.0</td>\n",
       "      <td>1833951.0</td>\n",
       "      <td>41.699577</td>\n",
       "      <td>-87.608304</td>\n",
       "      <td>0</td>\n",
       "      <td>2012-01-02</td>\n",
       "    </tr>\n",
       "    <tr>\n",
       "      <th>1267596</th>\n",
       "      <td>20228</td>\n",
       "      <td>2012-01-03 12:07:00</td>\n",
       "      <td>010XX N PULASKI RD</td>\n",
       "      <td>HOMICIDE</td>\n",
       "      <td>FIRST DEGREE MURDER</td>\n",
       "      <td>STREET</td>\n",
       "      <td>False</td>\n",
       "      <td>False</td>\n",
       "      <td>11.0</td>\n",
       "      <td>1149528.0</td>\n",
       "      <td>1906741.0</td>\n",
       "      <td>41.900017</td>\n",
       "      <td>-87.726226</td>\n",
       "      <td>1</td>\n",
       "      <td>2012-01-03</td>\n",
       "    </tr>\n",
       "  </tbody>\n",
       "</table>\n",
       "</div>"
      ],
      "text/plain": [
       "            ID                Date                      Block Primary Type  \\\n",
       "1267592  20224 2012-01-02 02:22:00       030XX W LAWRENCE AVE     HOMICIDE   \n",
       "1267593  20225 2012-01-02 17:58:00            024XX E 78TH ST     HOMICIDE   \n",
       "1267594  20226 2012-01-02 17:53:00        066XX S WOLCOTT AVE     HOMICIDE   \n",
       "1267595  20227 2012-01-02 05:15:00  107XX S COTTAGE GROVE AVE     HOMICIDE   \n",
       "1267596  20228 2012-01-03 12:07:00         010XX N PULASKI RD     HOMICIDE   \n",
       "\n",
       "                 Description Location Description  Arrest  Domestic  District  \\\n",
       "1267592  FIRST DEGREE MURDER                 AUTO   False     False      17.0   \n",
       "1267593  FIRST DEGREE MURDER               STREET   False     False       4.0   \n",
       "1267594  FIRST DEGREE MURDER                HOUSE   False     False       7.0   \n",
       "1267595  FIRST DEGREE MURDER               STREET    True     False       5.0   \n",
       "1267596  FIRST DEGREE MURDER               STREET   False     False      11.0   \n",
       "\n",
       "         X Coordinate  Y Coordinate   Latitude  Longitude  dow  date only  \n",
       "1267592     1155053.0     1931730.0  41.968480 -87.705260    0 2012-01-02  \n",
       "1267593     1194033.0     1853729.0  41.753569 -87.564503    0 2012-01-02  \n",
       "1267594     1164829.0     1860636.0  41.773190 -87.671330    0 2012-01-02  \n",
       "1267595     1182247.0     1833951.0  41.699577 -87.608304    0 2012-01-02  \n",
       "1267596     1149528.0     1906741.0  41.900017 -87.726226    1 2012-01-03  "
      ]
     },
     "metadata": {
      "engine": 0
     },
     "output_type": "display_data"
    }
   ],
   "source": [
    "%%px\n",
    "@bodo.jit(distributed=[\"crimes\"], cache=True)\n",
    "def data_cleanup(crimes):\n",
    "    t1 = time.time()    \n",
    "    crimes = crimes.drop_duplicates()    \n",
    "    crimes.drop(['Unnamed: 0', 'Case Number', 'IUCR','Updated On','Year', 'FBI Code', 'Beat','Ward','Community Area', 'Location'], inplace=True, axis=1)\n",
    "    crimes.Date = pd.to_datetime(crimes.Date, format='%m/%d/%Y %I:%M:%S %p')\n",
    "    crimes[\"dow\"] = crimes[\"Date\"].dt.dayofweek\n",
    "    crimes[\"date only\"] = crimes[\"Date\"].dt.floor('D')\n",
    "    crimes = crimes.sort_values(by=\"ID\")    \n",
    "    print(\"Data cleanup time: \", ((time.time() - t1) * 1000), \" (ms)\")\n",
    "    return crimes\n",
    "\n",
    "crimes = data_cleanup(crimes1)\n",
    "if bodo.get_rank()==0:\n",
    "    display(crimes.head())"
   ]
  },
  {
   "cell_type": "code",
   "execution_count": 4,
   "metadata": {
    "execution": {
     "iopub.execute_input": "2022-04-04T23:18:43.933726Z",
     "iopub.status.busy": "2022-04-04T23:18:43.933473Z",
     "iopub.status.idle": "2022-04-04T23:18:53.444063Z",
     "shell.execute_reply": "2022-04-04T23:18:53.443482Z",
     "shell.execute_reply.started": "2022-04-04T23:18:43.933700Z"
    },
    "tags": []
   },
   "outputs": [
    {
     "data": {
      "application/vnd.jupyter.widget-view+json": {
       "model_id": "0c033cb08772470c8a13854acf8ac65b",
       "version_major": 2,
       "version_minor": 0
      },
      "text/plain": [
       "%px:   0%|          | 0/4 [00:00<?, ?tasks/s]"
      ]
     },
     "metadata": {},
     "output_type": "display_data"
    },
    {
     "data": {
      "text/plain": [
       "[stdout:0] Getting top crimes Time:  148.8639335211701  (ms)\n",
       "Index(['THEFT', 'BATTERY', 'CRIMINAL DAMAGE', 'NARCOTICS', 'ASSAULT',\n",
       "       'OTHER OFFENSE', 'BURGLARY', 'DECEPTIVE PRACTICE',\n",
       "       'MOTOR VEHICLE THEFT', 'ROBBERY'],\n",
       "      dtype='object')\n"
      ]
     },
     "metadata": {},
     "output_type": "display_data"
    }
   ],
   "source": [
    "%%px\n",
    "@bodo.jit(cache=True)\n",
    "def get_top_crime_types(crimes):\n",
    "    t1 = time.time()\n",
    "    top_crime_types = crimes['Primary Type'].value_counts().index[0:10]\n",
    "    print(\"Getting top crimes Time: \", ((time.time() - t1) * 1000), \" (ms)\")\n",
    "    return top_crime_types\n",
    "\n",
    "top_crime_types = get_top_crime_types(crimes)\n",
    "top_crime_types = bodo.allgatherv(top_crime_types)\n",
    "if bodo.get_rank()==0:\n",
    "    print(top_crime_types)"
   ]
  },
  {
   "cell_type": "code",
   "execution_count": 5,
   "metadata": {
    "execution": {
     "iopub.execute_input": "2022-04-04T23:18:53.444987Z",
     "iopub.status.busy": "2022-04-04T23:18:53.444746Z",
     "iopub.status.idle": "2022-04-04T23:19:00.727080Z",
     "shell.execute_reply": "2022-04-04T23:19:00.726528Z",
     "shell.execute_reply.started": "2022-04-04T23:18:53.444961Z"
    },
    "tags": []
   },
   "outputs": [
    {
     "data": {
      "application/vnd.jupyter.widget-view+json": {
       "model_id": "63aa7de5f9d14afbb439464b495c69f5",
       "version_major": 2,
       "version_minor": 0
      },
      "text/plain": [
       "%px:   0%|          | 0/4 [00:00<?, ?tasks/s]"
      ]
     },
     "metadata": {},
     "output_type": "display_data"
    },
    {
     "data": {
      "text/plain": [
       "[stdout:0] Filtering crimes Time:  174.47385585728625  (ms)\n"
      ]
     },
     "metadata": {},
     "output_type": "display_data"
    },
    {
     "data": {
      "text/plain": [
       "[output:0]"
      ]
     },
     "metadata": {},
     "output_type": "display_data"
    },
    {
     "data": {
      "text/html": [
       "<div>\n",
       "<style scoped>\n",
       "    .dataframe tbody tr th:only-of-type {\n",
       "        vertical-align: middle;\n",
       "    }\n",
       "\n",
       "    .dataframe tbody tr th {\n",
       "        vertical-align: top;\n",
       "    }\n",
       "\n",
       "    .dataframe thead th {\n",
       "        text-align: right;\n",
       "    }\n",
       "</style>\n",
       "<table border=\"1\" class=\"dataframe\">\n",
       "  <thead>\n",
       "    <tr style=\"text-align: right;\">\n",
       "      <th></th>\n",
       "      <th>ID</th>\n",
       "      <th>Date</th>\n",
       "      <th>Block</th>\n",
       "      <th>Primary Type</th>\n",
       "      <th>Description</th>\n",
       "      <th>Location Description</th>\n",
       "      <th>Arrest</th>\n",
       "      <th>Domestic</th>\n",
       "      <th>District</th>\n",
       "      <th>X Coordinate</th>\n",
       "      <th>Y Coordinate</th>\n",
       "      <th>Latitude</th>\n",
       "      <th>Longitude</th>\n",
       "      <th>dow</th>\n",
       "      <th>date only</th>\n",
       "    </tr>\n",
       "  </thead>\n",
       "  <tbody>\n",
       "    <tr>\n",
       "      <th>77270</th>\n",
       "      <td>8421394</td>\n",
       "      <td>2012-01-01 00:15:00</td>\n",
       "      <td>004XX E ILLINOIS ST</td>\n",
       "      <td>BATTERY</td>\n",
       "      <td>SIMPLE</td>\n",
       "      <td>OTHER</td>\n",
       "      <td>False</td>\n",
       "      <td>False</td>\n",
       "      <td>18.0</td>\n",
       "      <td>1179396.0</td>\n",
       "      <td>1903711.0</td>\n",
       "      <td>41.891070</td>\n",
       "      <td>-87.616614</td>\n",
       "      <td>6</td>\n",
       "      <td>2012-01-01</td>\n",
       "    </tr>\n",
       "    <tr>\n",
       "      <th>77272</th>\n",
       "      <td>8421398</td>\n",
       "      <td>2012-01-01 00:23:00</td>\n",
       "      <td>033XX N HALSTED ST</td>\n",
       "      <td>ASSAULT</td>\n",
       "      <td>AGGRAVATED:KNIFE/CUTTING INSTR</td>\n",
       "      <td>BAR OR TAVERN</td>\n",
       "      <td>True</td>\n",
       "      <td>False</td>\n",
       "      <td>19.0</td>\n",
       "      <td>1170335.0</td>\n",
       "      <td>1922325.0</td>\n",
       "      <td>41.942351</td>\n",
       "      <td>-87.649345</td>\n",
       "      <td>6</td>\n",
       "      <td>2012-01-01</td>\n",
       "    </tr>\n",
       "    <tr>\n",
       "      <th>77273</th>\n",
       "      <td>8421402</td>\n",
       "      <td>2012-01-01 00:30:00</td>\n",
       "      <td>092XX S DR MARTIN LUTHER KING JR DR</td>\n",
       "      <td>BATTERY</td>\n",
       "      <td>AGGRAVATED: OTHER DANG WEAPON</td>\n",
       "      <td>SIDEWALK</td>\n",
       "      <td>False</td>\n",
       "      <td>False</td>\n",
       "      <td>6.0</td>\n",
       "      <td>1180537.0</td>\n",
       "      <td>1843779.0</td>\n",
       "      <td>41.726586</td>\n",
       "      <td>-87.614265</td>\n",
       "      <td>6</td>\n",
       "      <td>2012-01-01</td>\n",
       "    </tr>\n",
       "    <tr>\n",
       "      <th>77274</th>\n",
       "      <td>8421404</td>\n",
       "      <td>2012-01-01 00:23:00</td>\n",
       "      <td>002XX W 118TH ST</td>\n",
       "      <td>CRIMINAL DAMAGE</td>\n",
       "      <td>TO CITY OF CHICAGO PROPERTY</td>\n",
       "      <td>STREET</td>\n",
       "      <td>False</td>\n",
       "      <td>False</td>\n",
       "      <td>5.0</td>\n",
       "      <td>1176631.0</td>\n",
       "      <td>1826688.0</td>\n",
       "      <td>41.679774</td>\n",
       "      <td>-87.629085</td>\n",
       "      <td>6</td>\n",
       "      <td>2012-01-01</td>\n",
       "    </tr>\n",
       "    <tr>\n",
       "      <th>77276</th>\n",
       "      <td>8421408</td>\n",
       "      <td>2012-01-01 00:40:00</td>\n",
       "      <td>008XX E 79TH ST</td>\n",
       "      <td>NARCOTICS</td>\n",
       "      <td>POSS: CANNABIS 30GMS OR LESS</td>\n",
       "      <td>PARKING LOT/GARAGE(NON.RESID.)</td>\n",
       "      <td>True</td>\n",
       "      <td>False</td>\n",
       "      <td>6.0</td>\n",
       "      <td>1183364.0</td>\n",
       "      <td>1852811.0</td>\n",
       "      <td>41.751305</td>\n",
       "      <td>-87.603629</td>\n",
       "      <td>6</td>\n",
       "      <td>2012-01-01</td>\n",
       "    </tr>\n",
       "  </tbody>\n",
       "</table>\n",
       "</div>"
      ],
      "text/plain": [
       "            ID                Date                                Block  \\\n",
       "77270  8421394 2012-01-01 00:15:00                  004XX E ILLINOIS ST   \n",
       "77272  8421398 2012-01-01 00:23:00                   033XX N HALSTED ST   \n",
       "77273  8421402 2012-01-01 00:30:00  092XX S DR MARTIN LUTHER KING JR DR   \n",
       "77274  8421404 2012-01-01 00:23:00                     002XX W 118TH ST   \n",
       "77276  8421408 2012-01-01 00:40:00                      008XX E 79TH ST   \n",
       "\n",
       "          Primary Type                     Description  \\\n",
       "77270          BATTERY                          SIMPLE   \n",
       "77272          ASSAULT  AGGRAVATED:KNIFE/CUTTING INSTR   \n",
       "77273          BATTERY   AGGRAVATED: OTHER DANG WEAPON   \n",
       "77274  CRIMINAL DAMAGE     TO CITY OF CHICAGO PROPERTY   \n",
       "77276        NARCOTICS    POSS: CANNABIS 30GMS OR LESS   \n",
       "\n",
       "                 Location Description  Arrest  Domestic  District  \\\n",
       "77270                           OTHER   False     False      18.0   \n",
       "77272                   BAR OR TAVERN    True     False      19.0   \n",
       "77273                        SIDEWALK   False     False       6.0   \n",
       "77274                          STREET   False     False       5.0   \n",
       "77276  PARKING LOT/GARAGE(NON.RESID.)    True     False       6.0   \n",
       "\n",
       "       X Coordinate  Y Coordinate   Latitude  Longitude  dow  date only  \n",
       "77270     1179396.0     1903711.0  41.891070 -87.616614    6 2012-01-01  \n",
       "77272     1170335.0     1922325.0  41.942351 -87.649345    6 2012-01-01  \n",
       "77273     1180537.0     1843779.0  41.726586 -87.614265    6 2012-01-01  \n",
       "77274     1176631.0     1826688.0  41.679774 -87.629085    6 2012-01-01  \n",
       "77276     1183364.0     1852811.0  41.751305 -87.603629    6 2012-01-01  "
      ]
     },
     "metadata": {
      "engine": 0
     },
     "output_type": "display_data"
    }
   ],
   "source": [
    "%%px\n",
    "\n",
    "@bodo.jit(cache=True)\n",
    "def filter_crimes(crimes, top_crime_types):\n",
    "    t1 = time.time()\n",
    "    top_crimes = crimes[crimes['Primary Type'].isin(top_crime_types)]\n",
    "    print(\"Filtering crimes Time: \", ((time.time() - t1) * 1000), \" (ms)\")\n",
    "    return top_crimes\n",
    "\n",
    "crimes = filter_crimes(crimes, top_crime_types)\n",
    "if bodo.get_rank()==0:\n",
    "    display(crimes.head())"
   ]
  },
  {
   "cell_type": "markdown",
   "metadata": {},
   "source": [
    "## Crime Analysis\n",
    "\n",
    "### Find Pattern of each crime over the years\n",
    "\n"
   ]
  },
  {
   "cell_type": "code",
   "execution_count": 6,
   "metadata": {
    "execution": {
     "iopub.execute_input": "2022-04-04T23:19:00.728570Z",
     "iopub.status.busy": "2022-04-04T23:19:00.728329Z",
     "iopub.status.idle": "2022-04-04T23:19:13.614258Z",
     "shell.execute_reply": "2022-04-04T23:19:13.613710Z",
     "shell.execute_reply.started": "2022-04-04T23:19:00.728542Z"
    },
    "tags": []
   },
   "outputs": [
    {
     "data": {
      "application/vnd.jupyter.widget-view+json": {
       "model_id": "df223fb07e5c425d9082615d4b762680",
       "version_major": 2,
       "version_minor": 0
      },
      "text/plain": [
       "%px:   0%|          | 0/4 [00:00<?, ?tasks/s]"
      ]
     },
     "metadata": {},
     "output_type": "display_data"
    },
    {
     "data": {
      "text/plain": [
       "[stdout:0] Computing Crime Pattern Time:  234.7587114199996  (ms)\n"
      ]
     },
     "metadata": {},
     "output_type": "display_data"
    }
   ],
   "source": [
    "%%px\n",
    "@bodo.jit(cache=True)\n",
    "def get_crimes_count_date(crimes):\n",
    "    t1 = time.time()\n",
    "    crimes_count_date = crimes.pivot_table(index='date only', columns='Primary Type', values='ID', aggfunc=\"count\")\n",
    "    print(\"Computing Crime Pattern Time: \", ((time.time() - t1) * 1000), \" (ms)\")\n",
    "    return crimes_count_date\n",
    "\n",
    "crimes_count_date = get_crimes_count_date(crimes)"
   ]
  },
  {
   "cell_type": "code",
   "execution_count": 7,
   "metadata": {
    "execution": {
     "iopub.execute_input": "2022-04-04T23:19:13.615303Z",
     "iopub.status.busy": "2022-04-04T23:19:13.615051Z",
     "iopub.status.idle": "2022-04-04T23:19:41.213299Z",
     "shell.execute_reply": "2022-04-04T23:19:41.212682Z",
     "shell.execute_reply.started": "2022-04-04T23:19:13.615275Z"
    },
    "tags": []
   },
   "outputs": [
    {
     "data": {
      "application/vnd.jupyter.widget-view+json": {
       "model_id": "3a6909d792b1411eaf7400e11fc34381",
       "version_major": 2,
       "version_minor": 0
      },
      "text/plain": [
       "%px:   0%|          | 0/4 [00:00<?, ?tasks/s]"
      ]
     },
     "metadata": {},
     "output_type": "display_data"
    },
    {
     "data": {
      "text/plain": [
       "[stdout:0] Computing Crime Pattern Time:  244.78003393505787  (ms)\n"
      ]
     },
     "metadata": {},
     "output_type": "display_data"
    },
    {
     "data": {
      "text/plain": [
       "[output:0]"
      ]
     },
     "metadata": {},
     "output_type": "display_data"
    },
    {
     "data": {
      "text/html": [
       "<div>\n",
       "<style scoped>\n",
       "    .dataframe tbody tr th:only-of-type {\n",
       "        vertical-align: middle;\n",
       "    }\n",
       "\n",
       "    .dataframe tbody tr th {\n",
       "        vertical-align: top;\n",
       "    }\n",
       "\n",
       "    .dataframe thead th {\n",
       "        text-align: right;\n",
       "    }\n",
       "</style>\n",
       "<table border=\"1\" class=\"dataframe\">\n",
       "  <thead>\n",
       "    <tr style=\"text-align: right;\">\n",
       "      <th></th>\n",
       "      <th>ROBBERY</th>\n",
       "      <th>BATTERY</th>\n",
       "      <th>THEFT</th>\n",
       "      <th>ASSAULT</th>\n",
       "      <th>OTHER OFFENSE</th>\n",
       "      <th>DECEPTIVE PRACTICE</th>\n",
       "      <th>NARCOTICS</th>\n",
       "      <th>MOTOR VEHICLE THEFT</th>\n",
       "      <th>BURGLARY</th>\n",
       "      <th>CRIMINAL DAMAGE</th>\n",
       "    </tr>\n",
       "  </thead>\n",
       "  <tbody>\n",
       "    <tr>\n",
       "      <th>2017-01-18</th>\n",
       "      <td>11285.0</td>\n",
       "      <td>51795.0</td>\n",
       "      <td>65040.0</td>\n",
       "      <td>18258.0</td>\n",
       "      <td>17780.0</td>\n",
       "      <td>15159.0</td>\n",
       "      <td>26614.0</td>\n",
       "      <td>12271.0</td>\n",
       "      <td>16294.0</td>\n",
       "      <td>30518.0</td>\n",
       "    </tr>\n",
       "    <tr>\n",
       "      <th>2017-01-17</th>\n",
       "      <td>11033.0</td>\n",
       "      <td>49992.0</td>\n",
       "      <td>63479.0</td>\n",
       "      <td>17709.0</td>\n",
       "      <td>17223.0</td>\n",
       "      <td>15775.0</td>\n",
       "      <td>23804.0</td>\n",
       "      <td>10927.0</td>\n",
       "      <td>15240.0</td>\n",
       "      <td>29348.0</td>\n",
       "    </tr>\n",
       "    <tr>\n",
       "      <th>2017-01-16</th>\n",
       "      <td>10773.0</td>\n",
       "      <td>51417.0</td>\n",
       "      <td>62199.0</td>\n",
       "      <td>17806.0</td>\n",
       "      <td>16866.0</td>\n",
       "      <td>15163.0</td>\n",
       "      <td>23896.0</td>\n",
       "      <td>10931.0</td>\n",
       "      <td>14937.0</td>\n",
       "      <td>29827.0</td>\n",
       "    </tr>\n",
       "    <tr>\n",
       "      <th>2017-01-15</th>\n",
       "      <td>11028.0</td>\n",
       "      <td>50080.0</td>\n",
       "      <td>63491.0</td>\n",
       "      <td>17711.0</td>\n",
       "      <td>17234.0</td>\n",
       "      <td>15762.0</td>\n",
       "      <td>23864.0</td>\n",
       "      <td>10923.0</td>\n",
       "      <td>15231.0</td>\n",
       "      <td>29375.0</td>\n",
       "    </tr>\n",
       "    <tr>\n",
       "      <th>2017-01-14</th>\n",
       "      <td>11239.0</td>\n",
       "      <td>53092.0</td>\n",
       "      <td>64371.0</td>\n",
       "      <td>18019.0</td>\n",
       "      <td>17021.0</td>\n",
       "      <td>14610.0</td>\n",
       "      <td>26102.0</td>\n",
       "      <td>11837.0</td>\n",
       "      <td>16150.0</td>\n",
       "      <td>31212.0</td>\n",
       "    </tr>\n",
       "  </tbody>\n",
       "</table>\n",
       "</div>"
      ],
      "text/plain": [
       "            ROBBERY  BATTERY    THEFT  ASSAULT  OTHER OFFENSE  \\\n",
       "2017-01-18  11285.0  51795.0  65040.0  18258.0        17780.0   \n",
       "2017-01-17  11033.0  49992.0  63479.0  17709.0        17223.0   \n",
       "2017-01-16  10773.0  51417.0  62199.0  17806.0        16866.0   \n",
       "2017-01-15  11028.0  50080.0  63491.0  17711.0        17234.0   \n",
       "2017-01-14  11239.0  53092.0  64371.0  18019.0        17021.0   \n",
       "\n",
       "            DECEPTIVE PRACTICE  NARCOTICS  MOTOR VEHICLE THEFT  BURGLARY  \\\n",
       "2017-01-18             15159.0    26614.0              12271.0   16294.0   \n",
       "2017-01-17             15775.0    23804.0              10927.0   15240.0   \n",
       "2017-01-16             15163.0    23896.0              10931.0   14937.0   \n",
       "2017-01-15             15762.0    23864.0              10923.0   15231.0   \n",
       "2017-01-14             14610.0    26102.0              11837.0   16150.0   \n",
       "\n",
       "            CRIMINAL DAMAGE  \n",
       "2017-01-18          30518.0  \n",
       "2017-01-17          29348.0  \n",
       "2017-01-16          29827.0  \n",
       "2017-01-15          29375.0  \n",
       "2017-01-14          31212.0  "
      ]
     },
     "metadata": {
      "engine": 0
     },
     "output_type": "display_data"
    }
   ],
   "source": [
    "%%px\n",
    "\n",
    "@bodo.jit\n",
    "def get_crimes_type_date(crimes_count_date):\n",
    "    t1 = time.time()\n",
    "    crimes_count_date.index = pd.DatetimeIndex(crimes_count_date.index)\n",
    "    result = crimes_count_date.fillna(0).rolling(365).sum()\n",
    "    result = result.sort_index(ascending=False)\n",
    "    print(\"Computing Crime Pattern Time: \", ((time.time() - t1) * 1000), \" (ms)\")\n",
    "    return result\n",
    "\n",
    "get_crimes_type_date = get_crimes_type_date(crimes_count_date)\n",
    "if bodo.get_rank()==0:\n",
    "    display(get_crimes_type_date.head())"
   ]
  },
  {
   "cell_type": "markdown",
   "metadata": {},
   "source": [
    "## A general view of crime records by time, type and location\n",
    "\n",
    "### Determining the pattern on daily basis"
   ]
  },
  {
   "cell_type": "code",
   "execution_count": 8,
   "metadata": {
    "execution": {
     "iopub.execute_input": "2022-04-04T23:19:41.214204Z",
     "iopub.status.busy": "2022-04-04T23:19:41.213966Z",
     "iopub.status.idle": "2022-04-04T23:19:43.161725Z",
     "shell.execute_reply": "2022-04-04T23:19:43.161161Z",
     "shell.execute_reply.started": "2022-04-04T23:19:41.214178Z"
    },
    "tags": []
   },
   "outputs": [
    {
     "data": {
      "text/plain": [
       "[stdout:0] Group by days Time:  36.926575777215476  (ms)\n"
      ]
     },
     "metadata": {},
     "output_type": "display_data"
    },
    {
     "data": {
      "text/plain": [
       "[output:0]"
      ]
     },
     "metadata": {},
     "output_type": "display_data"
    },
    {
     "data": {
      "text/html": [
       "<div>\n",
       "<style scoped>\n",
       "    .dataframe tbody tr th:only-of-type {\n",
       "        vertical-align: middle;\n",
       "    }\n",
       "\n",
       "    .dataframe tbody tr th {\n",
       "        vertical-align: top;\n",
       "    }\n",
       "\n",
       "    .dataframe thead th {\n",
       "        text-align: right;\n",
       "    }\n",
       "</style>\n",
       "<table border=\"1\" class=\"dataframe\">\n",
       "  <thead>\n",
       "    <tr style=\"text-align: right;\">\n",
       "      <th></th>\n",
       "      <th>dow</th>\n",
       "      <th>ID</th>\n",
       "    </tr>\n",
       "  </thead>\n",
       "  <tbody>\n",
       "    <tr>\n",
       "      <th>3</th>\n",
       "      <td>0</td>\n",
       "      <td>190485</td>\n",
       "    </tr>\n",
       "    <tr>\n",
       "      <th>0</th>\n",
       "      <td>1</td>\n",
       "      <td>189223</td>\n",
       "    </tr>\n",
       "    <tr>\n",
       "      <th>1</th>\n",
       "      <td>2</td>\n",
       "      <td>191247</td>\n",
       "    </tr>\n",
       "    <tr>\n",
       "      <th>2</th>\n",
       "      <td>3</td>\n",
       "      <td>189308</td>\n",
       "    </tr>\n",
       "    <tr>\n",
       "      <th>4</th>\n",
       "      <td>4</td>\n",
       "      <td>200886</td>\n",
       "    </tr>\n",
       "  </tbody>\n",
       "</table>\n",
       "</div>"
      ],
      "text/plain": [
       "   dow      ID\n",
       "3    0  190485\n",
       "0    1  189223\n",
       "1    2  191247\n",
       "2    3  189308\n",
       "4    4  200886"
      ]
     },
     "metadata": {
      "engine": 0
     },
     "output_type": "display_data"
    }
   ],
   "source": [
    "%%px\n",
    "@bodo.jit(distributed=['crimes', 'crimes_days'], cache=True)\n",
    "def get_crimes_by_days(crimes):\n",
    "    t1 = time.time()\n",
    "    crimes_days = crimes.groupby('dow', as_index=False)['ID'].count().sort_values(by='dow')\n",
    "    print(\"Group by days Time: \", ((time.time() - t1) * 1000), \" (ms)\")\n",
    "    return crimes_days\n",
    "    \n",
    "crimes_days = get_crimes_by_days(crimes)\n",
    "if bodo.get_rank()==0:\n",
    "    display(crimes_days.head())"
   ]
  },
  {
   "cell_type": "markdown",
   "metadata": {},
   "source": [
    "### Determining the pattern on monthly basis"
   ]
  },
  {
   "cell_type": "code",
   "execution_count": 9,
   "metadata": {
    "execution": {
     "iopub.execute_input": "2022-04-04T23:19:43.162730Z",
     "iopub.status.busy": "2022-04-04T23:19:43.162499Z",
     "iopub.status.idle": "2022-04-04T23:19:46.284920Z",
     "shell.execute_reply": "2022-04-04T23:19:46.284366Z",
     "shell.execute_reply.started": "2022-04-04T23:19:43.162704Z"
    },
    "tags": []
   },
   "outputs": [
    {
     "data": {
      "application/vnd.jupyter.widget-view+json": {
       "model_id": "73b2b2112f49483ba0837a12885932ca",
       "version_major": 2,
       "version_minor": 0
      },
      "text/plain": [
       "%px:   0%|          | 0/4 [00:00<?, ?tasks/s]"
      ]
     },
     "metadata": {},
     "output_type": "display_data"
    },
    {
     "data": {
      "text/plain": [
       "[stdout:0] Group by days Time:  47.583010580638074  (ms)\n"
      ]
     },
     "metadata": {},
     "output_type": "display_data"
    },
    {
     "data": {
      "text/plain": [
       "[output:0]"
      ]
     },
     "metadata": {},
     "output_type": "display_data"
    },
    {
     "data": {
      "text/html": [
       "<div>\n",
       "<style scoped>\n",
       "    .dataframe tbody tr th:only-of-type {\n",
       "        vertical-align: middle;\n",
       "    }\n",
       "\n",
       "    .dataframe tbody tr th {\n",
       "        vertical-align: top;\n",
       "    }\n",
       "\n",
       "    .dataframe thead th {\n",
       "        text-align: right;\n",
       "    }\n",
       "</style>\n",
       "<table border=\"1\" class=\"dataframe\">\n",
       "  <thead>\n",
       "    <tr style=\"text-align: right;\">\n",
       "      <th></th>\n",
       "      <th>month</th>\n",
       "      <th>ID</th>\n",
       "    </tr>\n",
       "  </thead>\n",
       "  <tbody>\n",
       "    <tr>\n",
       "      <th>2</th>\n",
       "      <td>1</td>\n",
       "      <td>113675</td>\n",
       "    </tr>\n",
       "    <tr>\n",
       "      <th>3</th>\n",
       "      <td>2</td>\n",
       "      <td>90123</td>\n",
       "    </tr>\n",
       "    <tr>\n",
       "      <th>4</th>\n",
       "      <td>3</td>\n",
       "      <td>109104</td>\n",
       "    </tr>\n",
       "    <tr>\n",
       "      <th>6</th>\n",
       "      <td>4</td>\n",
       "      <td>108457</td>\n",
       "    </tr>\n",
       "    <tr>\n",
       "      <th>9</th>\n",
       "      <td>5</td>\n",
       "      <td>119081</td>\n",
       "    </tr>\n",
       "  </tbody>\n",
       "</table>\n",
       "</div>"
      ],
      "text/plain": [
       "   month      ID\n",
       "2      1  113675\n",
       "3      2   90123\n",
       "4      3  109104\n",
       "6      4  108457\n",
       "9      5  119081"
      ]
     },
     "metadata": {
      "engine": 0
     },
     "output_type": "display_data"
    }
   ],
   "source": [
    "%%px\n",
    "@bodo.jit(distributed=['crimes', 'crimes_months'], cache=True)\n",
    "def get_crimes_by_months(crimes):\n",
    "    t1 = time.time()\n",
    "    crimes['month'] = crimes[\"Date\"].dt.month\n",
    "    crimes_months = crimes.groupby('month', as_index=False)['ID'].count().sort_values(by='month')\n",
    "    print(\"Group by days Time: \", ((time.time() - t1) * 1000), \" (ms)\")\n",
    "    return crimes_months\n",
    "    \n",
    "crimes_months = get_crimes_by_months(crimes)\n",
    "if bodo.get_rank()==0:\n",
    "    display(crimes_months.head())"
   ]
  },
  {
   "cell_type": "markdown",
   "metadata": {},
   "source": [
    "### Determining the pattern by crime type"
   ]
  },
  {
   "cell_type": "code",
   "execution_count": 10,
   "metadata": {
    "execution": {
     "iopub.execute_input": "2022-04-04T23:19:46.285863Z",
     "iopub.status.busy": "2022-04-04T23:19:46.285620Z",
     "iopub.status.idle": "2022-04-04T23:19:47.953596Z",
     "shell.execute_reply": "2022-04-04T23:19:47.953006Z",
     "shell.execute_reply.started": "2022-04-04T23:19:46.285838Z"
    },
    "tags": []
   },
   "outputs": [
    {
     "data": {
      "text/plain": [
       "[stdout:0] Group by days Time:  68.05387312579114  (ms)\n"
      ]
     },
     "metadata": {},
     "output_type": "display_data"
    },
    {
     "data": {
      "text/plain": [
       "[output:0]"
      ]
     },
     "metadata": {},
     "output_type": "display_data"
    },
    {
     "data": {
      "text/html": [
       "<div>\n",
       "<style scoped>\n",
       "    .dataframe tbody tr th:only-of-type {\n",
       "        vertical-align: middle;\n",
       "    }\n",
       "\n",
       "    .dataframe tbody tr th {\n",
       "        vertical-align: top;\n",
       "    }\n",
       "\n",
       "    .dataframe thead th {\n",
       "        text-align: right;\n",
       "    }\n",
       "</style>\n",
       "<table border=\"1\" class=\"dataframe\">\n",
       "  <thead>\n",
       "    <tr style=\"text-align: right;\">\n",
       "      <th></th>\n",
       "      <th>Primary Type</th>\n",
       "      <th>ID</th>\n",
       "    </tr>\n",
       "  </thead>\n",
       "  <tbody>\n",
       "    <tr>\n",
       "      <th>2</th>\n",
       "      <td>THEFT</td>\n",
       "      <td>329460</td>\n",
       "    </tr>\n",
       "    <tr>\n",
       "      <th>1</th>\n",
       "      <td>BATTERY</td>\n",
       "      <td>263700</td>\n",
       "    </tr>\n",
       "    <tr>\n",
       "      <th>7</th>\n",
       "      <td>CRIMINAL DAMAGE</td>\n",
       "      <td>155455</td>\n",
       "    </tr>\n",
       "    <tr>\n",
       "      <th>4</th>\n",
       "      <td>NARCOTICS</td>\n",
       "      <td>135240</td>\n",
       "    </tr>\n",
       "    <tr>\n",
       "      <th>3</th>\n",
       "      <td>ASSAULT</td>\n",
       "      <td>91289</td>\n",
       "    </tr>\n",
       "  </tbody>\n",
       "</table>\n",
       "</div>"
      ],
      "text/plain": [
       "      Primary Type      ID\n",
       "2            THEFT  329460\n",
       "1          BATTERY  263700\n",
       "7  CRIMINAL DAMAGE  155455\n",
       "4        NARCOTICS  135240\n",
       "3          ASSAULT   91289"
      ]
     },
     "metadata": {
      "engine": 0
     },
     "output_type": "display_data"
    }
   ],
   "source": [
    "%%px\n",
    "@bodo.jit(distributed=['crimes', 'crimes_type'], cache=True)\n",
    "def get_crimes_by_type(crimes):\n",
    "    t1 = time.time()\n",
    "    crimes_type = crimes.groupby('Primary Type', as_index=False)['ID'].count().sort_values(by='ID', ascending=False)\n",
    "    print(\"Group by days Time: \", ((time.time() - t1) * 1000), \" (ms)\")\n",
    "    return crimes_type\n",
    "    \n",
    "crimes_type = get_crimes_by_type(crimes)\n",
    "if bodo.get_rank()==0:\n",
    "    display(crimes_type.head())"
   ]
  },
  {
   "cell_type": "markdown",
   "metadata": {},
   "source": [
    "### Determining the pattern by location"
   ]
  },
  {
   "cell_type": "code",
   "execution_count": 11,
   "metadata": {
    "execution": {
     "iopub.execute_input": "2022-04-04T23:19:47.954542Z",
     "iopub.status.busy": "2022-04-04T23:19:47.954298Z",
     "iopub.status.idle": "2022-04-04T23:19:49.612698Z",
     "shell.execute_reply": "2022-04-04T23:19:49.612132Z",
     "shell.execute_reply.started": "2022-04-04T23:19:47.954516Z"
    },
    "tags": []
   },
   "outputs": [
    {
     "data": {
      "text/plain": [
       "[stdout:0] Group by days Time:  70.30599407698901  (ms)\n"
      ]
     },
     "metadata": {},
     "output_type": "display_data"
    },
    {
     "data": {
      "text/plain": [
       "[output:0]"
      ]
     },
     "metadata": {},
     "output_type": "display_data"
    },
    {
     "data": {
      "text/html": [
       "<div>\n",
       "<style scoped>\n",
       "    .dataframe tbody tr th:only-of-type {\n",
       "        vertical-align: middle;\n",
       "    }\n",
       "\n",
       "    .dataframe tbody tr th {\n",
       "        vertical-align: top;\n",
       "    }\n",
       "\n",
       "    .dataframe thead th {\n",
       "        text-align: right;\n",
       "    }\n",
       "</style>\n",
       "<table border=\"1\" class=\"dataframe\">\n",
       "  <thead>\n",
       "    <tr style=\"text-align: right;\">\n",
       "      <th></th>\n",
       "      <th>Location Description</th>\n",
       "      <th>ID</th>\n",
       "    </tr>\n",
       "  </thead>\n",
       "  <tbody>\n",
       "    <tr>\n",
       "      <th>49</th>\n",
       "      <td>STREET</td>\n",
       "      <td>306860</td>\n",
       "    </tr>\n",
       "    <tr>\n",
       "      <th>78</th>\n",
       "      <td>RESIDENCE</td>\n",
       "      <td>216611</td>\n",
       "    </tr>\n",
       "    <tr>\n",
       "      <th>50</th>\n",
       "      <td>APARTMENT</td>\n",
       "      <td>173373</td>\n",
       "    </tr>\n",
       "    <tr>\n",
       "      <th>48</th>\n",
       "      <td>SIDEWALK</td>\n",
       "      <td>147414</td>\n",
       "    </tr>\n",
       "    <tr>\n",
       "      <th>77</th>\n",
       "      <td>OTHER</td>\n",
       "      <td>51854</td>\n",
       "    </tr>\n",
       "  </tbody>\n",
       "</table>\n",
       "</div>"
      ],
      "text/plain": [
       "   Location Description      ID\n",
       "49               STREET  306860\n",
       "78            RESIDENCE  216611\n",
       "50            APARTMENT  173373\n",
       "48             SIDEWALK  147414\n",
       "77                OTHER   51854"
      ]
     },
     "metadata": {
      "engine": 0
     },
     "output_type": "display_data"
    }
   ],
   "source": [
    "%%px\n",
    "@bodo.jit(distributed=['crimes', 'crimes_location'], cache=True)\n",
    "def get_crimes_by_location(crimes):\n",
    "    t1 = time.time()\n",
    "    crimes_location = crimes.groupby('Location Description', as_index=False)['ID'].count().sort_values(by='ID', ascending=False)\n",
    "    print(\"Group by days Time: \", ((time.time() - t1) * 1000), \" (ms)\")\n",
    "    return crimes_location\n",
    "    \n",
    "crimes_location = get_crimes_by_location(crimes)\n",
    "if bodo.get_rank()==0:\n",
    "    display(crimes_location.head())"
   ]
  },
  {
   "cell_type": "code",
   "execution_count": null,
   "metadata": {},
   "outputs": [],
   "source": []
  }
 ],
 "metadata": {
  "kernelspec": {
   "display_name": "SSH 10.30.3.4 Remote-Kernel",
   "language": "",
   "name": "rik_ssh_10_30_3_4_remotekernel"
  },
  "language_info": {
   "codemirror_mode": {
    "name": "ipython",
    "version": 3
   },
   "file_extension": ".py",
   "mimetype": "text/x-python",
   "name": "python",
   "nbconvert_exporter": "python",
   "pygments_lexer": "ipython3",
   "version": "3.9.7"
  }
 },
 "nbformat": 4,
 "nbformat_minor": 4
}
